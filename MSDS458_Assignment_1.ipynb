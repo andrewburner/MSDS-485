{
  "nbformat": 4,
  "nbformat_minor": 0,
  "metadata": {
    "colab": {
      "name": "MSDS458 Assignment 1.ipynb",
      "provenance": [],
      "authorship_tag": "ABX9TyPo9brAjsWcMe8GBHjDKqgg",
      "include_colab_link": true
    },
    "kernelspec": {
      "name": "python3",
      "display_name": "Python 3"
    },
    "language_info": {
      "name": "python"
    }
  },
  "cells": [
    {
      "cell_type": "markdown",
      "metadata": {
        "id": "view-in-github",
        "colab_type": "text"
      },
      "source": [
        "<a href=\"https://colab.research.google.com/github/andrewburner/MSDS-485/blob/main/MSDS458_Assignment_1.ipynb\" target=\"_parent\"><img src=\"https://colab.research.google.com/assets/colab-badge.svg\" alt=\"Open In Colab\"/></a>"
      ]
    },
    {
      "cell_type": "code",
      "metadata": {
        "colab": {
          "base_uri": "https://localhost:8080/",
          "height": 35
        },
        "id": "vl1bTimyOd6E",
        "outputId": "7ae2ee20-f582-470f-c72b-7aa3066ab62c"
      },
      "source": [
        "from datetime import datetime\n",
        "import numpy as np\n",
        "import pandas as pd\n",
        "import tensorflow as tf\n",
        "from tensorflow import keras\n",
        "keras.__version__"
      ],
      "execution_count": 41,
      "outputs": [
        {
          "output_type": "execute_result",
          "data": {
            "application/vnd.google.colaboratory.intrinsic+json": {
              "type": "string"
            },
            "text/plain": [
              "'2.5.0'"
            ]
          },
          "metadata": {
            "tags": []
          },
          "execution_count": 41
        }
      ]
    },
    {
      "cell_type": "code",
      "metadata": {
        "colab": {
          "base_uri": "https://localhost:8080/",
          "height": 35
        },
        "id": "0ALSmSiJOqTF",
        "outputId": "d33c6d98-f95d-473a-fc7a-26a56c85376f"
      },
      "source": [
        "tf.__version__"
      ],
      "execution_count": 2,
      "outputs": [
        {
          "output_type": "execute_result",
          "data": {
            "application/vnd.google.colaboratory.intrinsic+json": {
              "type": "string"
            },
            "text/plain": [
              "'2.5.0'"
            ]
          },
          "metadata": {
            "tags": []
          },
          "execution_count": 2
        }
      ]
    },
    {
      "cell_type": "code",
      "metadata": {
        "id": "ObK6PJy5Oqfr"
      },
      "source": [
        "# neccessary for K.gradient to work in TensorFlow 2.x\n",
        "# only needed for the \"Finding a pattern the hidden node maximally responds to\" section below.\n",
        "# but disabled to make Tensorboard work...\n",
        "tf.compat.v1.disable_eager_execution() "
      ],
      "execution_count": 4,
      "outputs": []
    },
    {
      "cell_type": "code",
      "metadata": {
        "id": "2IMO0jYSOqqS"
      },
      "source": [
        "# To get consistint results each time we rerun the code.\n",
        "keras.backend.clear_session()\n",
        "np.random.seed(1234)\n",
        "tf.random.set_seed(1234)"
      ],
      "execution_count": 6,
      "outputs": []
    },
    {
      "cell_type": "code",
      "metadata": {
        "colab": {
          "base_uri": "https://localhost:8080/"
        },
        "id": "zJwYJJIwOq00",
        "outputId": "6f1b31b6-9855-42fa-f578-2d9f556ef8bb"
      },
      "source": [
        "from tensorflow.keras.datasets import mnist\n",
        "\n",
        "(train_images, train_labels), (test_images, test_labels) = mnist.load_data()"
      ],
      "execution_count": 7,
      "outputs": [
        {
          "output_type": "stream",
          "text": [
            "Downloading data from https://storage.googleapis.com/tensorflow/tf-keras-datasets/mnist.npz\n",
            "11493376/11490434 [==============================] - 0s 0us/step\n"
          ],
          "name": "stdout"
        }
      ]
    },
    {
      "cell_type": "code",
      "metadata": {
        "colab": {
          "base_uri": "https://localhost:8080/"
        },
        "id": "tWGppaTEOq_o",
        "outputId": "fd41a895-4567-42a7-a5d2-d5312eed1b1b"
      },
      "source": [
        "train_images.shape, test_images.shape, test_labels.shape, test_labels.shape"
      ],
      "execution_count": 8,
      "outputs": [
        {
          "output_type": "execute_result",
          "data": {
            "text/plain": [
              "((60000, 28, 28), (10000, 28, 28), (10000,), (10000,))"
            ]
          },
          "metadata": {
            "tags": []
          },
          "execution_count": 8
        }
      ]
    },
    {
      "cell_type": "markdown",
      "metadata": {
        "id": "qnKrE1HjPGbE"
      },
      "source": [
        "**Experiment 1**"
      ]
    },
    {
      "cell_type": "code",
      "metadata": {
        "id": "hkaClIaRO7Zr"
      },
      "source": [
        "train_images = train_images.reshape((60000, 28 * 28))\n",
        "train_images = train_images.astype('float32') / 255\n",
        "\n",
        "test_images = test_images.reshape((10000, 28 * 28))\n",
        "test_images = test_images.astype('float32') / 255"
      ],
      "execution_count": 9,
      "outputs": []
    },
    {
      "cell_type": "code",
      "metadata": {
        "id": "Ubv5yhOWO7c4"
      },
      "source": [
        "val_images, train_images = train_images[:5000], train_images[5000:] \n",
        "val_labels, train_labels = train_labels[:5000], train_labels[5000:]"
      ],
      "execution_count": 10,
      "outputs": []
    },
    {
      "cell_type": "code",
      "metadata": {
        "id": "RagZfZBzO7fe"
      },
      "source": [
        "from tensorflow.keras import models\n",
        "from tensorflow.keras import layers\n",
        "\n",
        "model = models.Sequential()\n",
        "model.add(layers.Dense(1, activation='relu', input_shape=(28 * 28,)))\n",
        "model.add(layers.Dense(10, activation='softmax'))"
      ],
      "execution_count": 11,
      "outputs": []
    },
    {
      "cell_type": "code",
      "metadata": {
        "colab": {
          "base_uri": "https://localhost:8080/",
          "height": 312
        },
        "id": "KbwtKoySO7iH",
        "outputId": "eb4829c3-67f8-4cbf-d99c-2d2a914f96a7"
      },
      "source": [
        "keras.utils.plot_model(model, \"mnist_model_1hnode.png\", show_shapes=True) # plot a graph of the model"
      ],
      "execution_count": 12,
      "outputs": [
        {
          "output_type": "execute_result",
          "data": {
            "image/png": "[encoded data removed]",
            "text/plain": [
              "<IPython.core.display.Image object>"
            ]
          },
          "metadata": {
            "tags": []
          },
          "execution_count": 12
        }
      ]
    },
    {
      "cell_type": "code",
      "metadata": {
        "colab": {
          "base_uri": "https://localhost:8080/"
        },
        "id": "QVe31ZoEO7z2",
        "outputId": "230c3c0e-24bb-468b-b510-de9d8244a78b"
      },
      "source": [
        "model.summary() # prints a summary representation of the odel"
      ],
      "execution_count": 13,
      "outputs": [
        {
          "output_type": "stream",
          "text": [
            "Model: \"sequential\"\n",
            "_________________________________________________________________\n",
            "Layer (type)                 Output Shape              Param #   \n",
            "=================================================================\n",
            "dense (Dense)                (None, 1)                 785       \n",
            "_________________________________________________________________\n",
            "dense_1 (Dense)              (None, 10)                20        \n",
            "=================================================================\n",
            "Total params: 805\n",
            "Trainable params: 805\n",
            "Non-trainable params: 0\n",
            "_________________________________________________________________\n"
          ],
          "name": "stdout"
        }
      ]
    },
    {
      "cell_type": "code",
      "metadata": {
        "id": "ttWJFmm2O72k"
      },
      "source": [
        "# For use with non-categorical labels\n",
        "model.compile(optimizer='rmsprop',           \n",
        "# model.compile(optimizer=keras.optimizers.SGD(lr=1e-3),\n",
        "                loss='sparse_categorical_crossentropy',\n",
        "                metrics=['accuracy'])"
      ],
      "execution_count": 14,
      "outputs": []
    },
    {
      "cell_type": "code",
      "metadata": {
        "colab": {
          "base_uri": "https://localhost:8080/"
        },
        "id": "8ZCyZoeLO752",
        "outputId": "6afba214-ad30-4f1c-dcbd-614717f1a61a"
      },
      "source": [
        "start_time = datetime.now()\n",
        "history = model.fit(train_images, train_labels, epochs=30,\n",
        "                    validation_data=(val_images, val_labels))\n",
        "end_time = datetime.now()"
      ],
      "execution_count": 15,
      "outputs": [
        {
          "output_type": "stream",
          "text": [
            "Train on 55000 samples, validate on 5000 samples\n",
            "Epoch 1/30\n",
            "55000/55000 [==============================] - 2s 41us/sample - loss: 1.9713 - accuracy: 0.2039 - val_loss: 1.8820 - val_accuracy: 0.2138\n",
            "Epoch 2/30\n",
            "   32/55000 [..............................] - ETA: 9s - loss: 1.8004 - accuracy: 0.2188"
          ],
          "name": "stdout"
        },
        {
          "output_type": "stream",
          "text": [
            "/usr/local/lib/python3.7/dist-packages/tensorflow/python/keras/engine/training.py:2426: UserWarning: `Model.state_updates` will be removed in a future version. This property should not be used in TensorFlow 2.0, as `updates` are applied automatically.\n",
            "  warnings.warn('`Model.state_updates` will be removed in a future version. '\n"
          ],
          "name": "stderr"
        },
        {
          "output_type": "stream",
          "text": [
            "55000/55000 [==============================] - 2s 33us/sample - loss: 1.8526 - accuracy: 0.2267 - val_loss: 1.8028 - val_accuracy: 0.2492\n",
            "Epoch 3/30\n",
            "55000/55000 [==============================] - 2s 34us/sample - loss: 1.7823 - accuracy: 0.2632 - val_loss: 1.7495 - val_accuracy: 0.3174\n",
            "Epoch 4/30\n",
            "55000/55000 [==============================] - 2s 35us/sample - loss: 1.7420 - accuracy: 0.2914 - val_loss: 1.7149 - val_accuracy: 0.3134\n",
            "Epoch 5/30\n",
            "55000/55000 [==============================] - 2s 35us/sample - loss: 1.7178 - accuracy: 0.3104 - val_loss: 1.6989 - val_accuracy: 0.3272\n",
            "Epoch 6/30\n",
            "55000/55000 [==============================] - 2s 35us/sample - loss: 1.7004 - accuracy: 0.3286 - val_loss: 1.6837 - val_accuracy: 0.3506\n",
            "Epoch 7/30\n",
            "55000/55000 [==============================] - 2s 35us/sample - loss: 1.6859 - accuracy: 0.3463 - val_loss: 1.6676 - val_accuracy: 0.3548\n",
            "Epoch 8/30\n",
            "55000/55000 [==============================] - 2s 34us/sample - loss: 1.6711 - accuracy: 0.3542 - val_loss: 1.6605 - val_accuracy: 0.3630\n",
            "Epoch 9/30\n",
            "55000/55000 [==============================] - 2s 34us/sample - loss: 1.6564 - accuracy: 0.3620 - val_loss: 1.6423 - val_accuracy: 0.3694\n",
            "Epoch 10/30\n",
            "55000/55000 [==============================] - 2s 36us/sample - loss: 1.6434 - accuracy: 0.3699 - val_loss: 1.6336 - val_accuracy: 0.3840\n",
            "Epoch 11/30\n",
            "55000/55000 [==============================] - 2s 34us/sample - loss: 1.6321 - accuracy: 0.3754 - val_loss: 1.6262 - val_accuracy: 0.3826\n",
            "Epoch 12/30\n",
            "55000/55000 [==============================] - 2s 35us/sample - loss: 1.6218 - accuracy: 0.3768 - val_loss: 1.6139 - val_accuracy: 0.3910\n",
            "Epoch 13/30\n",
            "55000/55000 [==============================] - 2s 34us/sample - loss: 1.6142 - accuracy: 0.3793 - val_loss: 1.6139 - val_accuracy: 0.3924\n",
            "Epoch 14/30\n",
            "55000/55000 [==============================] - 2s 34us/sample - loss: 1.6069 - accuracy: 0.3823 - val_loss: 1.6063 - val_accuracy: 0.3750\n",
            "Epoch 15/30\n",
            "55000/55000 [==============================] - 2s 34us/sample - loss: 1.6014 - accuracy: 0.3798 - val_loss: 1.5978 - val_accuracy: 0.3768\n",
            "Epoch 16/30\n",
            "55000/55000 [==============================] - 2s 37us/sample - loss: 1.5953 - accuracy: 0.3786 - val_loss: 1.5919 - val_accuracy: 0.3874\n",
            "Epoch 17/30\n",
            "55000/55000 [==============================] - 2s 34us/sample - loss: 1.5906 - accuracy: 0.3807 - val_loss: 1.5886 - val_accuracy: 0.3538\n",
            "Epoch 18/30\n",
            "55000/55000 [==============================] - 2s 34us/sample - loss: 1.5864 - accuracy: 0.3760 - val_loss: 1.5831 - val_accuracy: 0.3676\n",
            "Epoch 19/30\n",
            "55000/55000 [==============================] - 2s 34us/sample - loss: 1.5821 - accuracy: 0.3747 - val_loss: 1.5778 - val_accuracy: 0.3686\n",
            "Epoch 20/30\n",
            "55000/55000 [==============================] - 2s 34us/sample - loss: 1.5776 - accuracy: 0.3736 - val_loss: 1.5774 - val_accuracy: 0.3636\n",
            "Epoch 21/30\n",
            "55000/55000 [==============================] - 2s 35us/sample - loss: 1.5745 - accuracy: 0.3747 - val_loss: 1.5823 - val_accuracy: 0.3580\n",
            "Epoch 22/30\n",
            "55000/55000 [==============================] - 2s 34us/sample - loss: 1.5710 - accuracy: 0.3769 - val_loss: 1.5660 - val_accuracy: 0.3788\n",
            "Epoch 23/30\n",
            "55000/55000 [==============================] - 2s 35us/sample - loss: 1.5681 - accuracy: 0.3798 - val_loss: 1.5635 - val_accuracy: 0.3960\n",
            "Epoch 24/30\n",
            "55000/55000 [==============================] - 2s 34us/sample - loss: 1.5661 - accuracy: 0.3799 - val_loss: 1.5567 - val_accuracy: 0.3946\n",
            "Epoch 25/30\n",
            "55000/55000 [==============================] - 2s 35us/sample - loss: 1.5630 - accuracy: 0.3825 - val_loss: 1.5611 - val_accuracy: 0.3850\n",
            "Epoch 26/30\n",
            "55000/55000 [==============================] - 2s 33us/sample - loss: 1.5594 - accuracy: 0.3821 - val_loss: 1.5508 - val_accuracy: 0.3896\n",
            "Epoch 27/30\n",
            "55000/55000 [==============================] - 2s 33us/sample - loss: 1.5575 - accuracy: 0.3821 - val_loss: 1.5509 - val_accuracy: 0.3892\n",
            "Epoch 28/30\n",
            "55000/55000 [==============================] - 2s 35us/sample - loss: 1.5546 - accuracy: 0.3841 - val_loss: 1.5470 - val_accuracy: 0.3850\n",
            "Epoch 29/30\n",
            "55000/55000 [==============================] - 2s 33us/sample - loss: 1.5531 - accuracy: 0.3824 - val_loss: 1.5458 - val_accuracy: 0.3938\n",
            "Epoch 30/30\n",
            "55000/55000 [==============================] - 2s 34us/sample - loss: 1.5503 - accuracy: 0.3838 - val_loss: 1.5475 - val_accuracy: 0.3892\n"
          ],
          "name": "stdout"
        }
      ]
    },
    {
      "cell_type": "code",
      "metadata": {
        "id": "pjb7Bfg8ba8t"
      },
      "source": [
        "train_time = end_time - start_time\n",
        "print(f'training time: {train_time}')"
      ],
      "execution_count": null,
      "outputs": []
    },
    {
      "cell_type": "code",
      "metadata": {
        "id": "VXMnZbLOQe79"
      },
      "source": [
        "test_loss, test_acc = model.evaluate(test_images, test_labels)"
      ],
      "execution_count": 16,
      "outputs": []
    },
    {
      "cell_type": "code",
      "metadata": {
        "colab": {
          "base_uri": "https://localhost:8080/"
        },
        "id": "k3GI6fl5QiR4",
        "outputId": "24d9b324-e252-4532-cc3e-7f19c2149404"
      },
      "source": [
        "print(f'test acc: {test_acc}, test loss: {test_loss}')"
      ],
      "execution_count": 17,
      "outputs": [
        {
          "output_type": "stream",
          "text": [
            "test acc: 0.3944000005722046, test loss: 1.584922840309143\n"
          ],
          "name": "stdout"
        }
      ]
    },
    {
      "cell_type": "code",
      "metadata": {
        "colab": {
          "base_uri": "https://localhost:8080/"
        },
        "id": "_EJ8omB9QoyM",
        "outputId": "705db137-9570-473d-bc40-4cee56c014c0"
      },
      "source": [
        "history_dict = history.history\n",
        "history_dict.keys()"
      ],
      "execution_count": 18,
      "outputs": [
        {
          "output_type": "execute_result",
          "data": {
            "text/plain": [
              "dict_keys(['loss', 'accuracy', 'val_loss', 'val_accuracy'])"
            ]
          },
          "metadata": {
            "tags": []
          },
          "execution_count": 18
        }
      ]
    },
    {
      "cell_type": "code",
      "metadata": {
        "colab": {
          "base_uri": "https://localhost:8080/",
          "height": 295
        },
        "id": "IOfCZtwFQpBm",
        "outputId": "29825b7d-d5eb-40ec-e554-0af792c68679"
      },
      "source": [
        "import matplotlib.pyplot as plt\n",
        "\n",
        "acc = history.history['accuracy']\n",
        "val_acc = history.history['val_accuracy']\n",
        "loss = history.history['loss']\n",
        "val_loss = history.history['val_loss']\n",
        "\n",
        "epochs = range(1, len(acc) + 1)\n",
        "\n",
        "# \"bo\" is for \"blue dot\"\n",
        "plt.plot(epochs, loss, 'bo', label='Training loss')\n",
        "# b is for \"solid blue line\"\n",
        "plt.plot(epochs, val_loss, 'b', label='Validation loss')\n",
        "plt.title('Training and validation loss')\n",
        "\n",
        "plt.xlabel('Epochs')\n",
        "plt.ylabel('Loss')\n",
        "plt.legend()\n",
        "\n",
        "plt.show()"
      ],
      "execution_count": 19,
      "outputs": [
        {
          "output_type": "display_data",
          "data": {
            "image/png": "[encoded data removed]",
            "text/plain": [
              "<Figure size 432x288 with 1 Axes>"
            ]
          },
          "metadata": {
            "tags": [],
            "needs_background": "light"
          }
        }
      ]
    },
    {
      "cell_type": "code",
      "metadata": {
        "colab": {
          "base_uri": "https://localhost:8080/",
          "height": 295
        },
        "id": "4We3gFsqQpE9",
        "outputId": "17c00787-f0be-422b-c39b-951827b44a64"
      },
      "source": [
        "plt.clf()   # clear figure\n",
        "acc_values = history_dict['accuracy']\n",
        "# val_acc_values = history_dict['val_acc']\n",
        "\n",
        "plt.plot(epochs, acc, 'bo', label='Training acc')\n",
        "plt.plot(epochs, val_acc, 'b', label='Validation acc')\n",
        "plt.title('Training and validation accuracy')\n",
        "\n",
        "plt.xlabel('Epochs')\n",
        "plt.ylabel('Accuracy')\n",
        "plt.legend()\n",
        "\n",
        "plt.show()"
      ],
      "execution_count": 20,
      "outputs": [
        {
          "output_type": "display_data",
          "data": {
            "image/png": "[encoded data removed]",
            "text/plain": [
              "<Figure size 432x288 with 1 Axes>"
            ]
          },
          "metadata": {
            "tags": [],
            "needs_background": "light"
          }
        }
      ]
    },
    {
      "cell_type": "code",
      "metadata": {
        "id": "MsFDVBE9QpIy"
      },
      "source": [
        "# Get the predicted classes:\n",
        "pred_classes = np.argmax(model.predict(train_images), axis=-1)"
      ],
      "execution_count": 23,
      "outputs": []
    },
    {
      "cell_type": "code",
      "metadata": {
        "colab": {
          "base_uri": "https://localhost:8080/"
        },
        "id": "ad5z7SJIQpKq",
        "outputId": "bd2b7b1f-c7d0-4bbf-a718-2ee2415aa1a0"
      },
      "source": [
        "from sklearn.metrics import confusion_matrix\n",
        "\n",
        "conf_mx = confusion_matrix(train_labels,pred_classes)\n",
        "conf_mx"
      ],
      "execution_count": 24,
      "outputs": [
        {
          "output_type": "execute_result",
          "data": {
            "text/plain": [
              "array([[4333,    8,   67,   17,    0,  405,  567,    0,   47,    0],\n",
              "       [  13, 5221,   22,  358,    0,   10,    6,    0,   66,  483],\n",
              "       [ 501,  282,  995,  936,    0, 1123,  344,    6, 1272,   11],\n",
              "       [  32, 1011,  620, 1853,    0,  372,   63,   54, 1459,  174],\n",
              "       [  28, 1976,  238, 2022,    0,  153,   37,   42,  684,  127],\n",
              "       [ 239,  166, 1080,  319,    0, 2021,  483,   38,  623,   18],\n",
              "       [4118,    5,  114,   35,    0,  456,  635,    0,   54,    0],\n",
              "       [   1,  959,   20,  118,    0,   14,    4, 3652,   35,  912],\n",
              "       [  60,  732, 1113, 1171,    0,  744,  113,   11, 1410,   35],\n",
              "       [  13, 2141,   32,  313,    0,   21,    9, 1545,  113, 1267]])"
            ]
          },
          "metadata": {
            "tags": []
          },
          "execution_count": 24
        }
      ]
    },
    {
      "cell_type": "code",
      "metadata": {
        "id": "ggGKfhKGQpNZ"
      },
      "source": [
        "def plot_confusion_matrix(matrix):\n",
        "    \"\"\"If you prefer color and a colorbar\"\"\"\n",
        "    fig = plt.figure(figsize=(8,8))\n",
        "    ax = fig.add_subplot(111)\n",
        "    cax = ax.matshow(matrix)\n",
        "    fig.colorbar(cax)"
      ],
      "execution_count": 25,
      "outputs": []
    },
    {
      "cell_type": "code",
      "metadata": {
        "colab": {
          "base_uri": "https://localhost:8080/",
          "height": 285
        },
        "id": "nGlCEJsAQpfs",
        "outputId": "946beb93-0d9d-4700-f507-4ed85fa76172"
      },
      "source": [
        "plt.matshow(conf_mx, cmap=plt.cm.gray)\n",
        "plt.xlabel(\"Predicted Classes\")\n",
        "plt.ylabel(\"Actual Classes\")\n",
        "plt.show()"
      ],
      "execution_count": 26,
      "outputs": [
        {
          "output_type": "display_data",
          "data": {
            "image/png": "[encoded data removed]",
            "text/plain": [
              "<Figure size 288x288 with 1 Axes>"
            ]
          },
          "metadata": {
            "tags": [],
            "needs_background": "light"
          }
        }
      ]
    },
    {
      "cell_type": "code",
      "metadata": {
        "id": "z_Y6YpqFQpi_"
      },
      "source": [
        "row_sums = conf_mx.sum(axis=1, keepdims=True)\n",
        "norm_conf_mx = conf_mx / row_sums"
      ],
      "execution_count": 27,
      "outputs": []
    },
    {
      "cell_type": "code",
      "metadata": {
        "colab": {
          "base_uri": "https://localhost:8080/",
          "height": 285
        },
        "id": "otUEZYTHQpmb",
        "outputId": "e2cd2b03-7e0f-44d0-c373-31894822e05b"
      },
      "source": [
        "np.fill_diagonal(norm_conf_mx, 0)\n",
        "plt.matshow(norm_conf_mx, cmap=plt.cm.gray)\n",
        "plt.xlabel(\"Predicted Classes\")\n",
        "plt.ylabel(\"Actual Classes\")\n",
        "#plt.savefig(\"confusion_matrix_errors_plot_mnist_val\", tight_layout=False)\n",
        "plt.show()"
      ],
      "execution_count": 28,
      "outputs": [
        {
          "output_type": "display_data",
          "data": {
            "image/png": "[encoded data removed]",
            "text/plain": [
              "<Figure size 288x288 with 1 Axes>"
            ]
          },
          "metadata": {
            "tags": [],
            "needs_background": "light"
          }
        }
      ]
    },
    {
      "cell_type": "markdown",
      "metadata": {
        "id": "jJiJuGGvVSem"
      },
      "source": [
        "**Experiment 2**"
      ]
    },
    {
      "cell_type": "code",
      "metadata": {
        "id": "PfVI5ajvTJjW"
      },
      "source": [
        "model = models.Sequential()\n",
        "model.add(layers.Dense(2, activation='relu', input_shape=(28 * 28,)))\n",
        "model.add(layers.Dense(10, activation='softmax'))"
      ],
      "execution_count": 32,
      "outputs": []
    },
    {
      "cell_type": "code",
      "metadata": {
        "colab": {
          "base_uri": "https://localhost:8080/",
          "height": 312
        },
        "id": "TJ1cdJtsTJqE",
        "outputId": "8b9b58f5-5b3b-4314-9c6b-ccb179320789"
      },
      "source": [
        "keras.utils.plot_model(model, \"mnist_model_2hnode.png\", show_shapes=True)"
      ],
      "execution_count": 33,
      "outputs": [
        {
          "output_type": "execute_result",
          "data": {
            "image/png": "[encoded data removed]",
            "text/plain": [
              "<IPython.core.display.Image object>"
            ]
          },
          "metadata": {
            "tags": []
          },
          "execution_count": 33
        }
      ]
    },
    {
      "cell_type": "code",
      "metadata": {
        "id": "OLZcrUZmTJuF"
      },
      "source": [
        "model.compile(optimizer='rmsprop',\n",
        "              loss='sparse_categorical_crossentropy',              \n",
        "              metrics=['accuracy'])"
      ],
      "execution_count": 35,
      "outputs": []
    },
    {
      "cell_type": "code",
      "metadata": {
        "colab": {
          "base_uri": "https://localhost:8080/"
        },
        "id": "MUY-FD0oQppV",
        "outputId": "3da4690c-586c-441a-a979-c901079d5386"
      },
      "source": [
        "start_time = datetime.now()\n",
        "history = model.fit(train_images, train_labels, epochs=30,\n",
        "                    validation_data=(val_images, val_labels))\n",
        "end_time = datetime.now()\n"
      ],
      "execution_count": 43,
      "outputs": [
        {
          "output_type": "stream",
          "text": [
            "Train on 55000 samples, validate on 5000 samples\n",
            "Epoch 1/30\n",
            "55000/55000 [==============================] - 2s 44us/sample - loss: 0.9271 - accuracy: 0.7017 - val_loss: 0.9193 - val_accuracy: 0.7116\n",
            "Epoch 2/30\n",
            "55000/55000 [==============================] - 2s 41us/sample - loss: 0.9266 - accuracy: 0.7007 - val_loss: 0.9227 - val_accuracy: 0.7104\n",
            "Epoch 3/30\n",
            "55000/55000 [==============================] - 2s 41us/sample - loss: 0.9266 - accuracy: 0.7011 - val_loss: 0.9200 - val_accuracy: 0.7086\n",
            "Epoch 4/30\n",
            "55000/55000 [==============================] - 2s 41us/sample - loss: 0.9263 - accuracy: 0.7015 - val_loss: 0.9197 - val_accuracy: 0.7152\n",
            "Epoch 5/30\n",
            "55000/55000 [==============================] - 2s 40us/sample - loss: 0.9258 - accuracy: 0.7010 - val_loss: 0.9238 - val_accuracy: 0.7102\n",
            "Epoch 6/30\n",
            "55000/55000 [==============================] - 2s 41us/sample - loss: 0.9263 - accuracy: 0.7020 - val_loss: 0.9203 - val_accuracy: 0.7168\n",
            "Epoch 7/30\n",
            "55000/55000 [==============================] - 2s 42us/sample - loss: 0.9260 - accuracy: 0.7010 - val_loss: 0.9185 - val_accuracy: 0.7128\n",
            "Epoch 8/30\n",
            "55000/55000 [==============================] - 2s 42us/sample - loss: 0.9253 - accuracy: 0.7017 - val_loss: 0.9190 - val_accuracy: 0.7142\n",
            "Epoch 9/30\n",
            "55000/55000 [==============================] - 2s 43us/sample - loss: 0.9261 - accuracy: 0.7014 - val_loss: 0.9193 - val_accuracy: 0.7108\n",
            "Epoch 10/30\n",
            "55000/55000 [==============================] - 2s 42us/sample - loss: 0.9258 - accuracy: 0.7019 - val_loss: 0.9248 - val_accuracy: 0.7116\n",
            "Epoch 11/30\n",
            "55000/55000 [==============================] - 2s 43us/sample - loss: 0.9259 - accuracy: 0.7021 - val_loss: 0.9250 - val_accuracy: 0.7130\n",
            "Epoch 12/30\n",
            "55000/55000 [==============================] - 2s 41us/sample - loss: 0.9254 - accuracy: 0.7027 - val_loss: 0.9195 - val_accuracy: 0.7158\n",
            "Epoch 13/30\n",
            "55000/55000 [==============================] - 2s 41us/sample - loss: 0.9260 - accuracy: 0.7009 - val_loss: 0.9201 - val_accuracy: 0.7168\n",
            "Epoch 14/30\n",
            "55000/55000 [==============================] - 2s 41us/sample - loss: 0.9251 - accuracy: 0.7015 - val_loss: 0.9224 - val_accuracy: 0.7102\n",
            "Epoch 15/30\n",
            "55000/55000 [==============================] - 2s 41us/sample - loss: 0.9255 - accuracy: 0.7034 - val_loss: 0.9278 - val_accuracy: 0.7074\n",
            "Epoch 16/30\n",
            "55000/55000 [==============================] - 2s 41us/sample - loss: 0.9253 - accuracy: 0.7007 - val_loss: 0.9225 - val_accuracy: 0.7134\n",
            "Epoch 17/30\n",
            "55000/55000 [==============================] - 2s 41us/sample - loss: 0.9252 - accuracy: 0.7012 - val_loss: 0.9195 - val_accuracy: 0.7136\n",
            "Epoch 18/30\n",
            "55000/55000 [==============================] - 2s 42us/sample - loss: 0.9254 - accuracy: 0.7025 - val_loss: 0.9213 - val_accuracy: 0.7172\n",
            "Epoch 19/30\n",
            "55000/55000 [==============================] - 2s 41us/sample - loss: 0.9254 - accuracy: 0.7020 - val_loss: 0.9251 - val_accuracy: 0.7114\n",
            "Epoch 20/30\n",
            "55000/55000 [==============================] - 2s 44us/sample - loss: 0.9256 - accuracy: 0.7003 - val_loss: 0.9257 - val_accuracy: 0.7150\n",
            "Epoch 21/30\n",
            "55000/55000 [==============================] - 2s 42us/sample - loss: 0.9256 - accuracy: 0.7009 - val_loss: 0.9220 - val_accuracy: 0.7162\n",
            "Epoch 22/30\n",
            "55000/55000 [==============================] - 2s 40us/sample - loss: 0.9256 - accuracy: 0.7020 - val_loss: 0.9217 - val_accuracy: 0.7124\n",
            "Epoch 23/30\n",
            "55000/55000 [==============================] - 2s 42us/sample - loss: 0.9252 - accuracy: 0.7013 - val_loss: 0.9202 - val_accuracy: 0.7126\n",
            "Epoch 24/30\n",
            "55000/55000 [==============================] - 2s 42us/sample - loss: 0.9259 - accuracy: 0.7019 - val_loss: 0.9287 - val_accuracy: 0.7096\n",
            "Epoch 25/30\n",
            "55000/55000 [==============================] - 2s 42us/sample - loss: 0.9254 - accuracy: 0.7015 - val_loss: 0.9242 - val_accuracy: 0.7102\n",
            "Epoch 26/30\n",
            "55000/55000 [==============================] - 2s 41us/sample - loss: 0.9256 - accuracy: 0.7011 - val_loss: 0.9220 - val_accuracy: 0.7166\n",
            "Epoch 27/30\n",
            "55000/55000 [==============================] - 2s 42us/sample - loss: 0.9253 - accuracy: 0.7011 - val_loss: 0.9293 - val_accuracy: 0.7134\n",
            "Epoch 28/30\n",
            "55000/55000 [==============================] - 2s 41us/sample - loss: 0.9256 - accuracy: 0.7024 - val_loss: 0.9217 - val_accuracy: 0.7134\n",
            "Epoch 29/30\n",
            "55000/55000 [==============================] - 2s 42us/sample - loss: 0.9262 - accuracy: 0.7016 - val_loss: 0.9336 - val_accuracy: 0.7048\n",
            "Epoch 30/30\n",
            "55000/55000 [==============================] - 2s 41us/sample - loss: 0.9256 - accuracy: 0.7018 - val_loss: 0.9208 - val_accuracy: 0.7106\n",
            "0:01:09.074770\n"
          ],
          "name": "stdout"
        }
      ]
    },
    {
      "cell_type": "code",
      "metadata": {
        "colab": {
          "base_uri": "https://localhost:8080/"
        },
        "id": "BrpYeR3IbMU6",
        "outputId": "60fe12bf-82f2-410a-dbd3-9fa1cb76474f"
      },
      "source": [
        "train_time = end_time - start_time\n",
        "print(f'training time: {train_time}')"
      ],
      "execution_count": 44,
      "outputs": [
        {
          "output_type": "stream",
          "text": [
            "training time: 0:01:09.074770\n"
          ],
          "name": "stdout"
        }
      ]
    },
    {
      "cell_type": "code",
      "metadata": {
        "id": "0uaky0i9be_R"
      },
      "source": [
        "test_loss, test_acc = model.evaluate(test_images, test_labels)"
      ],
      "execution_count": 45,
      "outputs": []
    },
    {
      "cell_type": "code",
      "metadata": {
        "colab": {
          "base_uri": "https://localhost:8080/"
        },
        "id": "dElz9vKFbl9F",
        "outputId": "2fba18c4-6303-49a1-be52-c65f046a8cc9"
      },
      "source": [
        "print(f'test acc: {test_acc}, test loss: {test_loss}')"
      ],
      "execution_count": 46,
      "outputs": [
        {
          "output_type": "stream",
          "text": [
            "test acc: 0.7052000164985657, test loss: 0.933592698097229\n"
          ],
          "name": "stdout"
        }
      ]
    },
    {
      "cell_type": "code",
      "metadata": {
        "id": "jU4u1a1kb9eF"
      },
      "source": [
        "history_dict = history.history"
      ],
      "execution_count": 50,
      "outputs": []
    },
    {
      "cell_type": "code",
      "metadata": {
        "colab": {
          "base_uri": "https://localhost:8080/",
          "height": 295
        },
        "id": "Ek6AT48Bbu9M",
        "outputId": "c300296a-a159-4f03-bd53-272f5d512355"
      },
      "source": [
        "acc = history.history['accuracy']\n",
        "val_acc = history.history['val_accuracy']\n",
        "loss = history.history['loss']\n",
        "val_loss = history.history['val_loss']\n",
        "\n",
        "epochs = range(1, len(acc) + 1)\n",
        "\n",
        "# \"bo\" is for \"blue dot\"\n",
        "plt.plot(epochs, loss, 'bo', label='Training loss')\n",
        "# b is for \"solid blue line\"\n",
        "plt.plot(epochs, val_loss, 'b', label='Validation loss')\n",
        "plt.title('Training and validation loss')\n",
        "\n",
        "plt.xlabel('Epochs')\n",
        "plt.ylabel('Loss')\n",
        "plt.legend()\n",
        "\n",
        "plt.show()"
      ],
      "execution_count": 51,
      "outputs": [
        {
          "output_type": "display_data",
          "data": {
            "image/png": "[encoded data removed]",
            "text/plain": [
              "<Figure size 432x288 with 1 Axes>"
            ]
          },
          "metadata": {
            "tags": [],
            "needs_background": "light"
          }
        }
      ]
    },
    {
      "cell_type": "code",
      "metadata": {
        "colab": {
          "base_uri": "https://localhost:8080/",
          "height": 295
        },
        "id": "ioR-0utDb6Oh",
        "outputId": "91aebba8-d048-4368-fcc7-bf06d047164c"
      },
      "source": [
        "plt.clf()   # clear figure\n",
        "acc_values = history_dict['accuracy']\n",
        "# val_acc_values = history_dict['val_acc']\n",
        "\n",
        "plt.plot(epochs, acc, 'bo', label='Training acc')\n",
        "plt.plot(epochs, val_acc, 'b', label='Validation acc')\n",
        "plt.title('Training and validation accuracy')\n",
        "\n",
        "plt.xlabel('Epochs')\n",
        "plt.ylabel('Accuracy')\n",
        "plt.legend()\n",
        "\n",
        "plt.show()"
      ],
      "execution_count": 53,
      "outputs": [
        {
          "output_type": "display_data",
          "data": {
            "image/png": "[encoded data removed]",
            "text/plain": [
              "<Figure size 432x288 with 1 Axes>"
            ]
          },
          "metadata": {
            "tags": [],
            "needs_background": "light"
          }
        }
      ]
    },
    {
      "cell_type": "code",
      "metadata": {
        "colab": {
          "base_uri": "https://localhost:8080/"
        },
        "id": "7DoTPY2TcTfx",
        "outputId": "90fe79ef-a493-459d-b624-9b3dfb02ea02"
      },
      "source": [
        "# Get the predicted classes:\n",
        "pred_classes = np.argmax(model.predict(train_images), axis=-1)"
      ],
      "execution_count": 54,
      "outputs": [
        {
          "output_type": "stream",
          "text": [
            "/usr/local/lib/python3.7/dist-packages/tensorflow/python/keras/engine/training.py:2426: UserWarning: `Model.state_updates` will be removed in a future version. This property should not be used in TensorFlow 2.0, as `updates` are applied automatically.\n",
            "  warnings.warn('`Model.state_updates` will be removed in a future version. '\n"
          ],
          "name": "stderr"
        }
      ]
    },
    {
      "cell_type": "code",
      "metadata": {
        "colab": {
          "base_uri": "https://localhost:8080/"
        },
        "id": "eQMwtONjcTfy",
        "outputId": "22807fbe-ea1f-4995-cfce-07d661f728f4"
      },
      "source": [
        "from sklearn.metrics import confusion_matrix\n",
        "\n",
        "conf_mx = confusion_matrix(train_labels,pred_classes)\n",
        "conf_mx"
      ],
      "execution_count": 55,
      "outputs": [
        {
          "output_type": "execute_result",
          "data": {
            "text/plain": [
              "array([[4265,   11,  549,  498,    2,   52,    8,    0,   58,    1],\n",
              "       [   4, 5719,   69,    3,   84,    8,   86,    1,  194,   11],\n",
              "       [ 425,  181, 3589,  141,   33,   82,  756,    8,  249,    6],\n",
              "       [ 377,   15,  213, 3170,   13,  942,    7,  273,  580,   48],\n",
              "       [   2,  309,   34,    2, 4372,    8,   19,    2,  156,  403],\n",
              "       [  84,   57,  300, 1263,   31, 1396,   29,  317, 1463,   47],\n",
              "       [   4,  251,  459,    5,   10,    7, 4617,    0,   64,    0],\n",
              "       [   4,   26,   17,  229,  100,  324,    2, 4222,  306,  485],\n",
              "       [  18,  462,  219,  328,  157,  561,   32,  232, 3262,  118],\n",
              "       [   5,   19,   13,   55,  569,   91,    1,  458,  215, 4028]])"
            ]
          },
          "metadata": {
            "tags": []
          },
          "execution_count": 55
        }
      ]
    },
    {
      "cell_type": "code",
      "metadata": {
        "colab": {
          "base_uri": "https://localhost:8080/",
          "height": 285
        },
        "id": "uQa5f1_YcTfz",
        "outputId": "e4e2d112-ea6c-4360-e847-d1c10db9c169"
      },
      "source": [
        "plt.matshow(conf_mx, cmap=plt.cm.gray)\n",
        "plt.xlabel(\"Predicted Classes\")\n",
        "plt.ylabel(\"Actual Classes\")\n",
        "plt.show()"
      ],
      "execution_count": 56,
      "outputs": [
        {
          "output_type": "display_data",
          "data": {
            "image/png": "[encoded data removed]",
            "text/plain": [
              "<Figure size 288x288 with 1 Axes>"
            ]
          },
          "metadata": {
            "tags": [],
            "needs_background": "light"
          }
        }
      ]
    },
    {
      "cell_type": "code",
      "metadata": {
        "id": "sBcbkJV1cTf0"
      },
      "source": [
        "row_sums = conf_mx.sum(axis=1, keepdims=True)\n",
        "norm_conf_mx = conf_mx / row_sums"
      ],
      "execution_count": 57,
      "outputs": []
    },
    {
      "cell_type": "code",
      "metadata": {
        "colab": {
          "base_uri": "https://localhost:8080/",
          "height": 285
        },
        "id": "mTB-DCRGcTf0",
        "outputId": "e150ed59-4ba8-48e3-fcd1-e730700a0a72"
      },
      "source": [
        "np.fill_diagonal(norm_conf_mx, 0)\n",
        "plt.matshow(norm_conf_mx, cmap=plt.cm.gray)\n",
        "plt.xlabel(\"Predicted Classes\")\n",
        "plt.ylabel(\"Actual Classes\")\n",
        "#plt.savefig(\"confusion_matrix_errors_plot_mnist_val\", tight_layout=False)\n",
        "plt.show()"
      ],
      "execution_count": 58,
      "outputs": [
        {
          "output_type": "display_data",
          "data": {
            "image/png": "[encoded data removed]",
            "text/plain": [
              "<Figure size 288x288 with 1 Axes>"
            ]
          },
          "metadata": {
            "tags": [],
            "needs_background": "light"
          }
        }
      ]
    },
    {
      "cell_type": "markdown",
      "metadata": {
        "id": "Ddz3-iaAeeoY"
      },
      "source": [
        "# **Experiment 3**"
      ]
    },
    {
      "cell_type": "code",
      "metadata": {
        "id": "mev2v0xDeigk"
      },
      "source": [
        "model = models.Sequential()\n",
        "model.add(layers.Dense(64, activation='relu', input_shape=(28 * 28,)))\n",
        "model.add(layers.Dense(10, activation='softmax'))"
      ],
      "execution_count": 59,
      "outputs": []
    },
    {
      "cell_type": "code",
      "metadata": {
        "colab": {
          "base_uri": "https://localhost:8080/",
          "height": 312
        },
        "id": "XGXuWUyJeigl",
        "outputId": "cc7a1c1b-9b57-4d45-f3f6-dbb4321f76f9"
      },
      "source": [
        "keras.utils.plot_model(model, \"mnist_model_2hnode.png\", show_shapes=True)"
      ],
      "execution_count": 60,
      "outputs": [
        {
          "output_type": "execute_result",
          "data": {
            "image/png": "[encoded data removed]",
            "text/plain": [
              "<IPython.core.display.Image object>"
            ]
          },
          "metadata": {
            "tags": []
          },
          "execution_count": 60
        }
      ]
    },
    {
      "cell_type": "code",
      "metadata": {
        "id": "146jBB41eign"
      },
      "source": [
        "model.compile(optimizer='rmsprop',\n",
        "              loss='sparse_categorical_crossentropy',              \n",
        "              metrics=['accuracy'])"
      ],
      "execution_count": 61,
      "outputs": []
    },
    {
      "cell_type": "code",
      "metadata": {
        "colab": {
          "base_uri": "https://localhost:8080/"
        },
        "id": "qnLPW7V9eigo",
        "outputId": "254c0d41-7680-4976-9756-e7abc63207f7"
      },
      "source": [
        "start_time = datetime.now()\n",
        "history = model.fit(train_images, train_labels, epochs=30,\n",
        "                    validation_data=(val_images, val_labels))\n",
        "end_time = datetime.now()\n"
      ],
      "execution_count": 62,
      "outputs": [
        {
          "output_type": "stream",
          "text": [
            "Train on 55000 samples, validate on 5000 samples\n",
            "Epoch 1/30\n",
            "54880/55000 [============================>.] - ETA: 0s - loss: 0.3142 - accuracy: 0.9114"
          ],
          "name": "stdout"
        },
        {
          "output_type": "stream",
          "text": [
            "/usr/local/lib/python3.7/dist-packages/tensorflow/python/keras/engine/training.py:2426: UserWarning: `Model.state_updates` will be removed in a future version. This property should not be used in TensorFlow 2.0, as `updates` are applied automatically.\n",
            "  warnings.warn('`Model.state_updates` will be removed in a future version. '\n"
          ],
          "name": "stderr"
        },
        {
          "output_type": "stream",
          "text": [
            "55000/55000 [==============================] - 4s 70us/sample - loss: 0.3137 - accuracy: 0.9116 - val_loss: 0.1775 - val_accuracy: 0.9490\n",
            "Epoch 2/30\n",
            "55000/55000 [==============================] - 4s 65us/sample - loss: 0.1642 - accuracy: 0.9521 - val_loss: 0.1329 - val_accuracy: 0.9644\n",
            "Epoch 3/30\n",
            "55000/55000 [==============================] - 3s 63us/sample - loss: 0.1241 - accuracy: 0.9636 - val_loss: 0.1200 - val_accuracy: 0.9650\n",
            "Epoch 4/30\n",
            "55000/55000 [==============================] - 4s 64us/sample - loss: 0.1014 - accuracy: 0.9705 - val_loss: 0.1095 - val_accuracy: 0.9668\n",
            "Epoch 5/30\n",
            "55000/55000 [==============================] - 3s 61us/sample - loss: 0.0873 - accuracy: 0.9749 - val_loss: 0.1000 - val_accuracy: 0.9718\n",
            "Epoch 6/30\n",
            "55000/55000 [==============================] - 3s 62us/sample - loss: 0.0772 - accuracy: 0.9775 - val_loss: 0.1021 - val_accuracy: 0.9728\n",
            "Epoch 7/30\n",
            "55000/55000 [==============================] - 3s 63us/sample - loss: 0.0697 - accuracy: 0.9801 - val_loss: 0.0971 - val_accuracy: 0.9758\n",
            "Epoch 8/30\n",
            "55000/55000 [==============================] - 3s 62us/sample - loss: 0.0632 - accuracy: 0.9819 - val_loss: 0.0992 - val_accuracy: 0.9746\n",
            "Epoch 9/30\n",
            "55000/55000 [==============================] - 3s 61us/sample - loss: 0.0583 - accuracy: 0.9834 - val_loss: 0.0996 - val_accuracy: 0.9736\n",
            "Epoch 10/30\n",
            "55000/55000 [==============================] - 4s 67us/sample - loss: 0.0538 - accuracy: 0.9844 - val_loss: 0.1122 - val_accuracy: 0.9720\n",
            "Epoch 11/30\n",
            "55000/55000 [==============================] - 4s 65us/sample - loss: 0.0507 - accuracy: 0.9860 - val_loss: 0.0977 - val_accuracy: 0.9754\n",
            "Epoch 12/30\n",
            "55000/55000 [==============================] - 3s 61us/sample - loss: 0.0467 - accuracy: 0.9873 - val_loss: 0.0959 - val_accuracy: 0.9754\n",
            "Epoch 13/30\n",
            "55000/55000 [==============================] - 4s 64us/sample - loss: 0.0443 - accuracy: 0.9883 - val_loss: 0.1110 - val_accuracy: 0.9740\n",
            "Epoch 14/30\n",
            "55000/55000 [==============================] - 4s 64us/sample - loss: 0.0418 - accuracy: 0.9889 - val_loss: 0.1061 - val_accuracy: 0.9744\n",
            "Epoch 15/30\n",
            "55000/55000 [==============================] - 3s 63us/sample - loss: 0.0378 - accuracy: 0.9897 - val_loss: 0.1049 - val_accuracy: 0.9750\n",
            "Epoch 16/30\n",
            "55000/55000 [==============================] - 4s 65us/sample - loss: 0.0352 - accuracy: 0.9903 - val_loss: 0.1107 - val_accuracy: 0.9742\n",
            "Epoch 17/30\n",
            "55000/55000 [==============================] - 3s 63us/sample - loss: 0.0342 - accuracy: 0.9907 - val_loss: 0.1161 - val_accuracy: 0.9734\n",
            "Epoch 18/30\n",
            "55000/55000 [==============================] - 4s 65us/sample - loss: 0.0325 - accuracy: 0.9913 - val_loss: 0.1278 - val_accuracy: 0.9704\n",
            "Epoch 19/30\n",
            "55000/55000 [==============================] - 4s 70us/sample - loss: 0.0303 - accuracy: 0.9919 - val_loss: 0.1239 - val_accuracy: 0.9734\n",
            "Epoch 20/30\n",
            "55000/55000 [==============================] - 3s 62us/sample - loss: 0.0285 - accuracy: 0.9926 - val_loss: 0.1303 - val_accuracy: 0.9722\n",
            "Epoch 21/30\n",
            "55000/55000 [==============================] - 4s 65us/sample - loss: 0.0268 - accuracy: 0.9936 - val_loss: 0.1284 - val_accuracy: 0.9738\n",
            "Epoch 22/30\n",
            "55000/55000 [==============================] - 4s 65us/sample - loss: 0.0253 - accuracy: 0.9938 - val_loss: 0.1371 - val_accuracy: 0.9720\n",
            "Epoch 23/30\n",
            "55000/55000 [==============================] - 3s 63us/sample - loss: 0.0242 - accuracy: 0.9940 - val_loss: 0.1271 - val_accuracy: 0.9716\n",
            "Epoch 24/30\n",
            "55000/55000 [==============================] - 4s 64us/sample - loss: 0.0231 - accuracy: 0.9943 - val_loss: 0.1355 - val_accuracy: 0.9732\n",
            "Epoch 25/30\n",
            "55000/55000 [==============================] - 4s 66us/sample - loss: 0.0213 - accuracy: 0.9946 - val_loss: 0.1474 - val_accuracy: 0.9714\n",
            "Epoch 26/30\n",
            "55000/55000 [==============================] - 4s 69us/sample - loss: 0.0210 - accuracy: 0.9947 - val_loss: 0.1435 - val_accuracy: 0.9718\n",
            "Epoch 27/30\n",
            "55000/55000 [==============================] - 4s 66us/sample - loss: 0.0198 - accuracy: 0.9952 - val_loss: 0.1451 - val_accuracy: 0.9734\n",
            "Epoch 28/30\n",
            "55000/55000 [==============================] - 4s 67us/sample - loss: 0.0179 - accuracy: 0.9959 - val_loss: 0.1514 - val_accuracy: 0.9722\n",
            "Epoch 29/30\n",
            "55000/55000 [==============================] - 4s 66us/sample - loss: 0.0174 - accuracy: 0.9958 - val_loss: 0.1428 - val_accuracy: 0.9738\n",
            "Epoch 30/30\n",
            "55000/55000 [==============================] - 4s 65us/sample - loss: 0.0167 - accuracy: 0.9962 - val_loss: 0.1551 - val_accuracy: 0.9714\n"
          ],
          "name": "stdout"
        }
      ]
    },
    {
      "cell_type": "code",
      "metadata": {
        "colab": {
          "base_uri": "https://localhost:8080/"
        },
        "id": "pD6AUiuKeigo",
        "outputId": "d5a6dafe-761a-42d7-fdf7-9846e52446ec"
      },
      "source": [
        "train_time = end_time - start_time\n",
        "print(f'training time: {train_time}')"
      ],
      "execution_count": 63,
      "outputs": [
        {
          "output_type": "stream",
          "text": [
            "training time: 0:01:46.812564\n"
          ],
          "name": "stdout"
        }
      ]
    },
    {
      "cell_type": "code",
      "metadata": {
        "id": "todxKKxPeigp"
      },
      "source": [
        "test_loss, test_acc = model.evaluate(test_images, test_labels)"
      ],
      "execution_count": 64,
      "outputs": []
    },
    {
      "cell_type": "code",
      "metadata": {
        "colab": {
          "base_uri": "https://localhost:8080/"
        },
        "id": "DLTRG00oeigp",
        "outputId": "1f39a2fe-93e8-4bcc-db5e-ee06b31cf104"
      },
      "source": [
        "print(f'test acc: {test_acc}, test loss: {test_loss}')"
      ],
      "execution_count": 65,
      "outputs": [
        {
          "output_type": "stream",
          "text": [
            "test acc: 0.9710999727249146, test loss: 0.1648134328031766\n"
          ],
          "name": "stdout"
        }
      ]
    },
    {
      "cell_type": "code",
      "metadata": {
        "id": "b_P2w45Leigq"
      },
      "source": [
        "history_dict = history.history"
      ],
      "execution_count": 66,
      "outputs": []
    },
    {
      "cell_type": "code",
      "metadata": {
        "colab": {
          "base_uri": "https://localhost:8080/",
          "height": 295
        },
        "id": "hRsNqMGmeigr",
        "outputId": "f297734a-2cc6-4ee1-d7c1-86b92ccff5b4"
      },
      "source": [
        "acc = history.history['accuracy']\n",
        "val_acc = history.history['val_accuracy']\n",
        "loss = history.history['loss']\n",
        "val_loss = history.history['val_loss']\n",
        "\n",
        "epochs = range(1, len(acc) + 1)\n",
        "\n",
        "# \"bo\" is for \"blue dot\"\n",
        "plt.plot(epochs, loss, 'bo', label='Training loss')\n",
        "# b is for \"solid blue line\"\n",
        "plt.plot(epochs, val_loss, 'b', label='Validation loss')\n",
        "plt.title('Training and validation loss')\n",
        "\n",
        "plt.xlabel('Epochs')\n",
        "plt.ylabel('Loss')\n",
        "plt.legend()\n",
        "\n",
        "plt.show()"
      ],
      "execution_count": 67,
      "outputs": [
        {
          "output_type": "display_data",
          "data": {
            "image/png": "[encoded data removed]",
            "text/plain": [
              "<Figure size 432x288 with 1 Axes>"
            ]
          },
          "metadata": {
            "tags": [],
            "needs_background": "light"
          }
        }
      ]
    },
    {
      "cell_type": "code",
      "metadata": {
        "colab": {
          "base_uri": "https://localhost:8080/",
          "height": 295
        },
        "id": "h1dsfBIWeigr",
        "outputId": "e8f58a91-fc1d-4d1f-a9a0-dd5844742547"
      },
      "source": [
        "plt.clf()   # clear figure\n",
        "acc_values = history_dict['accuracy']\n",
        "# val_acc_values = history_dict['val_acc']\n",
        "\n",
        "plt.plot(epochs, acc, 'bo', label='Training acc')\n",
        "plt.plot(epochs, val_acc, 'b', label='Validation acc')\n",
        "plt.title('Training and validation accuracy')\n",
        "\n",
        "plt.xlabel('Epochs')\n",
        "plt.ylabel('Accuracy')\n",
        "plt.legend()\n",
        "\n",
        "plt.show()"
      ],
      "execution_count": 68,
      "outputs": [
        {
          "output_type": "display_data",
          "data": {
            "image/png": "[encoded data removed]",
            "text/plain": [
              "<Figure size 432x288 with 1 Axes>"
            ]
          },
          "metadata": {
            "tags": [],
            "needs_background": "light"
          }
        }
      ]
    },
    {
      "cell_type": "code",
      "metadata": {
        "colab": {
          "base_uri": "https://localhost:8080/"
        },
        "id": "7y8mktg0eigs",
        "outputId": "a3ab9358-74fd-477f-a536-f01527fb949f"
      },
      "source": [
        "# Get the predicted classes:\n",
        "pred_classes = np.argmax(model.predict(train_images), axis=-1)"
      ],
      "execution_count": 69,
      "outputs": [
        {
          "output_type": "stream",
          "text": [
            "/usr/local/lib/python3.7/dist-packages/tensorflow/python/keras/engine/training.py:2426: UserWarning: `Model.state_updates` will be removed in a future version. This property should not be used in TensorFlow 2.0, as `updates` are applied automatically.\n",
            "  warnings.warn('`Model.state_updates` will be removed in a future version. '\n"
          ],
          "name": "stderr"
        }
      ]
    },
    {
      "cell_type": "code",
      "metadata": {
        "colab": {
          "base_uri": "https://localhost:8080/"
        },
        "id": "38YDp5epeigs",
        "outputId": "b8d530ca-ae1c-45c1-b398-0358250abc8e"
      },
      "source": [
        "from sklearn.metrics import confusion_matrix\n",
        "\n",
        "conf_mx = confusion_matrix(train_labels,pred_classes)\n",
        "conf_mx"
      ],
      "execution_count": 70,
      "outputs": [
        {
          "output_type": "execute_result",
          "data": {
            "text/plain": [
              "array([[5433,    0,    2,    0,    0,    0,    0,    0,    8,    1],\n",
              "       [   0, 6164,    6,    2,    1,    0,    0,    3,    3,    0],\n",
              "       [   0,    1, 5462,    1,    0,    0,    0,    3,    3,    0],\n",
              "       [   0,    0,    5, 5627,    0,    0,    0,    3,    2,    1],\n",
              "       [   0,    1,    1,    0, 5302,    0,    1,    1,    0,    1],\n",
              "       [   0,    0,    2,   38,    1, 4914,    5,    1,   22,    4],\n",
              "       [   2,    0,    0,    0,    0,    2, 5407,    0,    6,    0],\n",
              "       [   1,    2,    2,    0,    0,    0,    0, 5707,    1,    2],\n",
              "       [   0,    4,    3,    1,    2,    0,    0,    3, 5376,    0],\n",
              "       [   1,    0,    0,    3,    8,    1,    0,   12,    5, 5424]])"
            ]
          },
          "metadata": {
            "tags": []
          },
          "execution_count": 70
        }
      ]
    },
    {
      "cell_type": "code",
      "metadata": {
        "colab": {
          "base_uri": "https://localhost:8080/",
          "height": 285
        },
        "id": "z7LuFOMXeigt",
        "outputId": "9e864282-b4d6-4f7d-d126-0960ca519564"
      },
      "source": [
        "plt.matshow(conf_mx, cmap=plt.cm.gray)\n",
        "plt.xlabel(\"Predicted Classes\")\n",
        "plt.ylabel(\"Actual Classes\")\n",
        "plt.show()"
      ],
      "execution_count": 71,
      "outputs": [
        {
          "output_type": "display_data",
          "data": {
            "image/png": "[encoded data removed]",
            "text/plain": [
              "<Figure size 288x288 with 1 Axes>"
            ]
          },
          "metadata": {
            "tags": [],
            "needs_background": "light"
          }
        }
      ]
    },
    {
      "cell_type": "code",
      "metadata": {
        "id": "gay075ppeigu"
      },
      "source": [
        "row_sums = conf_mx.sum(axis=1, keepdims=True)\n",
        "norm_conf_mx = conf_mx / row_sums"
      ],
      "execution_count": 72,
      "outputs": []
    },
    {
      "cell_type": "code",
      "metadata": {
        "colab": {
          "base_uri": "https://localhost:8080/",
          "height": 285
        },
        "id": "acDhoFI9eigu",
        "outputId": "efa687e1-423a-4559-966f-897b96dfb598"
      },
      "source": [
        "np.fill_diagonal(norm_conf_mx, 0)\n",
        "plt.matshow(norm_conf_mx, cmap=plt.cm.gray)\n",
        "plt.xlabel(\"Predicted Classes\")\n",
        "plt.ylabel(\"Actual Classes\")\n",
        "#plt.savefig(\"confusion_matrix_errors_plot_mnist_val\", tight_layout=False)\n",
        "plt.show()"
      ],
      "execution_count": 73,
      "outputs": [
        {
          "output_type": "display_data",
          "data": {
            "image/png": "[encoded data removed]",
            "text/plain": [
              "<Figure size 288x288 with 1 Axes>"
            ]
          },
          "metadata": {
            "tags": [],
            "needs_background": "light"
          }
        }
      ]
    },
    {
      "cell_type": "code",
      "metadata": {
        "id": "EOefwEPwciC2"
      },
      "source": [
        ""
      ],
      "execution_count": null,
      "outputs": []
    },
    {
      "cell_type": "markdown",
      "metadata": {
        "id": "ADGEOtVeji08"
      },
      "source": [
        "\n",
        "\n",
        "```\n",
        "# This is formatted as code\n",
        "```\n",
        "\n",
        "# **Experiment 3 - 128 nodes**"
      ]
    },
    {
      "cell_type": "code",
      "metadata": {
        "id": "7xQonoplji09"
      },
      "source": [
        "model = models.Sequential()\n",
        "model.add(layers.Dense(128, activation='relu', input_shape=(28 * 28,)))\n",
        "model.add(layers.Dense(10, activation='softmax'))"
      ],
      "execution_count": 74,
      "outputs": []
    },
    {
      "cell_type": "code",
      "metadata": {
        "colab": {
          "base_uri": "https://localhost:8080/",
          "height": 312
        },
        "id": "XnHriRUUji09",
        "outputId": "061757fa-8c53-4556-c783-cc4b22997bdb"
      },
      "source": [
        "keras.utils.plot_model(model, \"mnist_model_2hnode.png\", show_shapes=True)"
      ],
      "execution_count": 75,
      "outputs": [
        {
          "output_type": "execute_result",
          "data": {
            "image/png": "[encoded data removed]",
            "text/plain": [
              "<IPython.core.display.Image object>"
            ]
          },
          "metadata": {
            "tags": []
          },
          "execution_count": 75
        }
      ]
    },
    {
      "cell_type": "code",
      "metadata": {
        "id": "TmWjLgywji0_"
      },
      "source": [
        "model.compile(optimizer='rmsprop',\n",
        "              loss='sparse_categorical_crossentropy',              \n",
        "              metrics=['accuracy'])"
      ],
      "execution_count": 76,
      "outputs": []
    },
    {
      "cell_type": "code",
      "metadata": {
        "colab": {
          "base_uri": "https://localhost:8080/"
        },
        "id": "ud0XKa4Dji0_",
        "outputId": "c244272b-a628-4b81-f488-51daad4f7894"
      },
      "source": [
        "start_time = datetime.now()\n",
        "history = model.fit(train_images, train_labels, epochs=30,\n",
        "                    validation_data=(val_images, val_labels))\n",
        "end_time = datetime.now()\n"
      ],
      "execution_count": 77,
      "outputs": [
        {
          "output_type": "stream",
          "text": [
            "Train on 55000 samples, validate on 5000 samples\n",
            "Epoch 1/30\n",
            "55000/55000 [==============================] - 5s 96us/sample - loss: 0.2685 - accuracy: 0.9227 - val_loss: 0.1399 - val_accuracy: 0.9616\n"
          ],
          "name": "stdout"
        },
        {
          "output_type": "stream",
          "text": [
            "/usr/local/lib/python3.7/dist-packages/tensorflow/python/keras/engine/training.py:2426: UserWarning: `Model.state_updates` will be removed in a future version. This property should not be used in TensorFlow 2.0, as `updates` are applied automatically.\n",
            "  warnings.warn('`Model.state_updates` will be removed in a future version. '\n"
          ],
          "name": "stderr"
        },
        {
          "output_type": "stream",
          "text": [
            "Epoch 2/30\n",
            "55000/55000 [==============================] - 5s 93us/sample - loss: 0.1260 - accuracy: 0.9628 - val_loss: 0.1049 - val_accuracy: 0.9704\n",
            "Epoch 3/30\n",
            "55000/55000 [==============================] - 5s 91us/sample - loss: 0.0916 - accuracy: 0.9728 - val_loss: 0.1020 - val_accuracy: 0.9720\n",
            "Epoch 4/30\n",
            "55000/55000 [==============================] - 5s 91us/sample - loss: 0.0734 - accuracy: 0.9787 - val_loss: 0.0937 - val_accuracy: 0.9722\n",
            "Epoch 5/30\n",
            "55000/55000 [==============================] - 5s 91us/sample - loss: 0.0617 - accuracy: 0.9829 - val_loss: 0.0851 - val_accuracy: 0.9748\n",
            "Epoch 6/30\n",
            "55000/55000 [==============================] - 5s 91us/sample - loss: 0.0527 - accuracy: 0.9854 - val_loss: 0.0856 - val_accuracy: 0.9770\n",
            "Epoch 7/30\n",
            "55000/55000 [==============================] - 5s 93us/sample - loss: 0.0460 - accuracy: 0.9873 - val_loss: 0.0803 - val_accuracy: 0.9804\n",
            "Epoch 8/30\n",
            "55000/55000 [==============================] - 5s 97us/sample - loss: 0.0401 - accuracy: 0.9888 - val_loss: 0.0764 - val_accuracy: 0.9804\n",
            "Epoch 9/30\n",
            "55000/55000 [==============================] - 5s 95us/sample - loss: 0.0358 - accuracy: 0.9900 - val_loss: 0.0761 - val_accuracy: 0.9808\n",
            "Epoch 10/30\n",
            "55000/55000 [==============================] - 5s 93us/sample - loss: 0.0309 - accuracy: 0.9915 - val_loss: 0.0889 - val_accuracy: 0.9780\n",
            "Epoch 11/30\n",
            "55000/55000 [==============================] - 5s 95us/sample - loss: 0.0281 - accuracy: 0.9923 - val_loss: 0.0856 - val_accuracy: 0.9776\n",
            "Epoch 12/30\n",
            "55000/55000 [==============================] - 5s 95us/sample - loss: 0.0247 - accuracy: 0.9932 - val_loss: 0.0826 - val_accuracy: 0.9790\n",
            "Epoch 13/30\n",
            "55000/55000 [==============================] - 5s 94us/sample - loss: 0.0226 - accuracy: 0.9938 - val_loss: 0.0934 - val_accuracy: 0.9778\n",
            "Epoch 14/30\n",
            "55000/55000 [==============================] - 5s 90us/sample - loss: 0.0203 - accuracy: 0.9947 - val_loss: 0.0892 - val_accuracy: 0.9792\n",
            "Epoch 15/30\n",
            "55000/55000 [==============================] - 5s 89us/sample - loss: 0.0176 - accuracy: 0.9955 - val_loss: 0.0904 - val_accuracy: 0.9812\n",
            "Epoch 16/30\n",
            "55000/55000 [==============================] - 5s 89us/sample - loss: 0.0149 - accuracy: 0.9961 - val_loss: 0.0946 - val_accuracy: 0.9784\n",
            "Epoch 17/30\n",
            "55000/55000 [==============================] - 5s 89us/sample - loss: 0.0140 - accuracy: 0.9966 - val_loss: 0.0929 - val_accuracy: 0.9800\n",
            "Epoch 18/30\n",
            "55000/55000 [==============================] - 5s 90us/sample - loss: 0.0124 - accuracy: 0.9969 - val_loss: 0.0930 - val_accuracy: 0.9810\n",
            "Epoch 19/30\n",
            "55000/55000 [==============================] - 5s 89us/sample - loss: 0.0115 - accuracy: 0.9972 - val_loss: 0.0975 - val_accuracy: 0.9790\n",
            "Epoch 20/30\n",
            "55000/55000 [==============================] - 5s 88us/sample - loss: 0.0092 - accuracy: 0.9978 - val_loss: 0.1056 - val_accuracy: 0.9798\n",
            "Epoch 21/30\n",
            "55000/55000 [==============================] - 5s 90us/sample - loss: 0.0090 - accuracy: 0.9979 - val_loss: 0.1053 - val_accuracy: 0.9778\n",
            "Epoch 22/30\n",
            "55000/55000 [==============================] - 5s 90us/sample - loss: 0.0078 - accuracy: 0.9980 - val_loss: 0.1181 - val_accuracy: 0.9780\n",
            "Epoch 23/30\n",
            "55000/55000 [==============================] - 5s 88us/sample - loss: 0.0068 - accuracy: 0.9983 - val_loss: 0.1147 - val_accuracy: 0.9798\n",
            "Epoch 24/30\n",
            "55000/55000 [==============================] - 5s 91us/sample - loss: 0.0062 - accuracy: 0.9983 - val_loss: 0.1187 - val_accuracy: 0.9790\n",
            "Epoch 25/30\n",
            "55000/55000 [==============================] - 5s 90us/sample - loss: 0.0061 - accuracy: 0.9985 - val_loss: 0.1191 - val_accuracy: 0.9776\n",
            "Epoch 26/30\n",
            "55000/55000 [==============================] - 5s 90us/sample - loss: 0.0054 - accuracy: 0.9988 - val_loss: 0.1218 - val_accuracy: 0.9786\n",
            "Epoch 27/30\n",
            "55000/55000 [==============================] - 5s 92us/sample - loss: 0.0048 - accuracy: 0.9988 - val_loss: 0.1237 - val_accuracy: 0.9796\n",
            "Epoch 28/30\n",
            "55000/55000 [==============================] - 5s 90us/sample - loss: 0.0041 - accuracy: 0.9990 - val_loss: 0.1236 - val_accuracy: 0.9808\n",
            "Epoch 29/30\n",
            "55000/55000 [==============================] - 5s 90us/sample - loss: 0.0039 - accuracy: 0.9993 - val_loss: 0.1283 - val_accuracy: 0.9782\n",
            "Epoch 30/30\n",
            "55000/55000 [==============================] - 5s 94us/sample - loss: 0.0031 - accuracy: 0.9993 - val_loss: 0.1289 - val_accuracy: 0.9808\n"
          ],
          "name": "stdout"
        }
      ]
    },
    {
      "cell_type": "code",
      "metadata": {
        "colab": {
          "base_uri": "https://localhost:8080/"
        },
        "id": "K_NBEfOEji1A",
        "outputId": "73931ce9-6228-4264-bce0-a4c56c9f80ce"
      },
      "source": [
        "train_time = end_time - start_time\n",
        "print(f'training time: {train_time}')"
      ],
      "execution_count": 78,
      "outputs": [
        {
          "output_type": "stream",
          "text": [
            "training time: 0:02:31.373104\n"
          ],
          "name": "stdout"
        }
      ]
    },
    {
      "cell_type": "code",
      "metadata": {
        "id": "xRF5fKUWji1A"
      },
      "source": [
        "test_loss, test_acc = model.evaluate(test_images, test_labels)"
      ],
      "execution_count": 79,
      "outputs": []
    },
    {
      "cell_type": "code",
      "metadata": {
        "colab": {
          "base_uri": "https://localhost:8080/"
        },
        "id": "dTmgAt1kji1B",
        "outputId": "4b2bc751-e5b1-4006-9712-8a5a7f797c21"
      },
      "source": [
        "print(f'test acc: {test_acc}, test loss: {test_loss}')"
      ],
      "execution_count": 80,
      "outputs": [
        {
          "output_type": "stream",
          "text": [
            "test acc: 0.9779000282287598, test loss: 0.15685394153668494\n"
          ],
          "name": "stdout"
        }
      ]
    },
    {
      "cell_type": "code",
      "metadata": {
        "id": "tnTqImGyji1B"
      },
      "source": [
        "history_dict = history.history"
      ],
      "execution_count": 81,
      "outputs": []
    },
    {
      "cell_type": "code",
      "metadata": {
        "colab": {
          "base_uri": "https://localhost:8080/",
          "height": 295
        },
        "id": "i772YAtNji1C",
        "outputId": "e4455198-cac8-48ba-a173-8dc1793f01a2"
      },
      "source": [
        "acc = history.history['accuracy']\n",
        "val_acc = history.history['val_accuracy']\n",
        "loss = history.history['loss']\n",
        "val_loss = history.history['val_loss']\n",
        "\n",
        "epochs = range(1, len(acc) + 1)\n",
        "\n",
        "# \"bo\" is for \"blue dot\"\n",
        "plt.plot(epochs, loss, 'bo', label='Training loss')\n",
        "# b is for \"solid blue line\"\n",
        "plt.plot(epochs, val_loss, 'b', label='Validation loss')\n",
        "plt.title('Training and validation loss')\n",
        "\n",
        "plt.xlabel('Epochs')\n",
        "plt.ylabel('Loss')\n",
        "plt.legend()\n",
        "\n",
        "plt.show()"
      ],
      "execution_count": 82,
      "outputs": [
        {
          "output_type": "display_data",
          "data": {
            "image/png": "[encoded data removed]",
            "text/plain": [
              "<Figure size 432x288 with 1 Axes>"
            ]
          },
          "metadata": {
            "tags": [],
            "needs_background": "light"
          }
        }
      ]
    },
    {
      "cell_type": "code",
      "metadata": {
        "colab": {
          "base_uri": "https://localhost:8080/",
          "height": 295
        },
        "id": "Z5hocJ_Wji1C",
        "outputId": "ed70cf85-0134-467c-8946-f793dc566e9e"
      },
      "source": [
        "plt.clf()   # clear figure\n",
        "acc_values = history_dict['accuracy']\n",
        "# val_acc_values = history_dict['val_acc']\n",
        "\n",
        "plt.plot(epochs, acc, 'bo', label='Training acc')\n",
        "plt.plot(epochs, val_acc, 'b', label='Validation acc')\n",
        "plt.title('Training and validation accuracy')\n",
        "\n",
        "plt.xlabel('Epochs')\n",
        "plt.ylabel('Accuracy')\n",
        "plt.legend()\n",
        "\n",
        "plt.show()"
      ],
      "execution_count": 83,
      "outputs": [
        {
          "output_type": "display_data",
          "data": {
            "image/png": "[encoded data removed]",
            "text/plain": [
              "<Figure size 432x288 with 1 Axes>"
            ]
          },
          "metadata": {
            "tags": [],
            "needs_background": "light"
          }
        }
      ]
    },
    {
      "cell_type": "code",
      "metadata": {
        "colab": {
          "base_uri": "https://localhost:8080/"
        },
        "id": "DSI0cBirji1C",
        "outputId": "f3b76f4c-dd8f-4bef-9427-b6fb246b04e4"
      },
      "source": [
        "# Get the predicted classes:\n",
        "pred_classes = np.argmax(model.predict(train_images), axis=-1)"
      ],
      "execution_count": 84,
      "outputs": [
        {
          "output_type": "stream",
          "text": [
            "/usr/local/lib/python3.7/dist-packages/tensorflow/python/keras/engine/training.py:2426: UserWarning: `Model.state_updates` will be removed in a future version. This property should not be used in TensorFlow 2.0, as `updates` are applied automatically.\n",
            "  warnings.warn('`Model.state_updates` will be removed in a future version. '\n"
          ],
          "name": "stderr"
        }
      ]
    },
    {
      "cell_type": "code",
      "metadata": {
        "colab": {
          "base_uri": "https://localhost:8080/"
        },
        "id": "_QMG2kB4ji1D",
        "outputId": "c63d8cc6-5e23-42c6-8781-1e791d562d73"
      },
      "source": [
        "from sklearn.metrics import confusion_matrix\n",
        "\n",
        "conf_mx = confusion_matrix(train_labels,pred_classes)\n",
        "conf_mx"
      ],
      "execution_count": 85,
      "outputs": [
        {
          "output_type": "execute_result",
          "data": {
            "text/plain": [
              "array([[5443,    0,    1,    0,    0,    0,    0,    0,    0,    0],\n",
              "       [   0, 6176,    0,    0,    1,    0,    0,    0,    2,    0],\n",
              "       [   0,    0, 5470,    0,    0,    0,    0,    0,    0,    0],\n",
              "       [   0,    0,    1, 5635,    0,    1,    0,    0,    0,    1],\n",
              "       [   0,    1,    0,    0, 5304,    0,    1,    1,    0,    0],\n",
              "       [   0,    0,    0,    0,    0, 4987,    0,    0,    0,    0],\n",
              "       [   0,    0,    0,    0,    0,    0, 5417,    0,    0,    0],\n",
              "       [   0,    0,    1,    0,    0,    0,    0, 5714,    0,    0],\n",
              "       [   0,    2,    0,    0,    0,    0,    0,    0, 5387,    0],\n",
              "       [   1,    0,    0,    0,    2,    0,    0,    4,    1, 5446]])"
            ]
          },
          "metadata": {
            "tags": []
          },
          "execution_count": 85
        }
      ]
    },
    {
      "cell_type": "code",
      "metadata": {
        "colab": {
          "base_uri": "https://localhost:8080/",
          "height": 285
        },
        "id": "YBJRMPhbji1D",
        "outputId": "10a03b04-e9be-41b7-bcf3-06729ba18898"
      },
      "source": [
        "plt.matshow(conf_mx, cmap=plt.cm.gray)\n",
        "plt.xlabel(\"Predicted Classes\")\n",
        "plt.ylabel(\"Actual Classes\")\n",
        "plt.show()"
      ],
      "execution_count": 86,
      "outputs": [
        {
          "output_type": "display_data",
          "data": {
            "image/png": "[encoded data removed]",
            "text/plain": [
              "<Figure size 288x288 with 1 Axes>"
            ]
          },
          "metadata": {
            "tags": [],
            "needs_background": "light"
          }
        }
      ]
    },
    {
      "cell_type": "code",
      "metadata": {
        "id": "eTFkjwBmji1D"
      },
      "source": [
        "row_sums = conf_mx.sum(axis=1, keepdims=True)\n",
        "norm_conf_mx = conf_mx / row_sums"
      ],
      "execution_count": 87,
      "outputs": []
    },
    {
      "cell_type": "code",
      "metadata": {
        "colab": {
          "base_uri": "https://localhost:8080/",
          "height": 285
        },
        "id": "mlUANBAuji1E",
        "outputId": "2b46f072-77d1-4229-fdf9-0799c5c559eb"
      },
      "source": [
        "np.fill_diagonal(norm_conf_mx, 0)\n",
        "plt.matshow(norm_conf_mx, cmap=plt.cm.gray)\n",
        "plt.xlabel(\"Predicted Classes\")\n",
        "plt.ylabel(\"Actual Classes\")\n",
        "#plt.savefig(\"confusion_matrix_errors_plot_mnist_val\", tight_layout=False)\n",
        "plt.show()"
      ],
      "execution_count": 88,
      "outputs": [
        {
          "output_type": "display_data",
          "data": {
            "image/png": "[encoded data removed]",
            "text/plain": [
              "<Figure size 288x288 with 1 Axes>"
            ]
          },
          "metadata": {
            "tags": [],
            "needs_background": "light"
          }
        }
      ]
    },
    {
      "cell_type": "code",
      "metadata": {
        "id": "v4jyiImSciHB"
      },
      "source": [
        ""
      ],
      "execution_count": 88,
      "outputs": []
    },
    {
      "cell_type": "markdown",
      "metadata": {
        "id": "zri2Af_jq1TZ"
      },
      "source": [
        "# **Experiment 3 - 256 nodes**"
      ]
    },
    {
      "cell_type": "code",
      "metadata": {
        "id": "bRQ6W_6uq1Ti"
      },
      "source": [
        "model = models.Sequential()\n",
        "model.add(layers.Dense(256, activation='relu', input_shape=(28 * 28,)))\n",
        "model.add(layers.Dense(10, activation='softmax'))"
      ],
      "execution_count": 89,
      "outputs": []
    },
    {
      "cell_type": "code",
      "metadata": {
        "colab": {
          "base_uri": "https://localhost:8080/",
          "height": 312
        },
        "id": "SQHzyfwxq1Tj",
        "outputId": "99938a71-4819-4f07-b393-f26d9c675dee"
      },
      "source": [
        "keras.utils.plot_model(model, \"mnist_model_2hnode.png\", show_shapes=True)"
      ],
      "execution_count": 90,
      "outputs": [
        {
          "output_type": "execute_result",
          "data": {
            "image/png": "[encoded data removed]",
            "text/plain": [
              "<IPython.core.display.Image object>"
            ]
          },
          "metadata": {
            "tags": []
          },
          "execution_count": 90
        }
      ]
    },
    {
      "cell_type": "code",
      "metadata": {
        "id": "trCJyA6uq1Tk"
      },
      "source": [
        "model.compile(optimizer='rmsprop',\n",
        "              loss='sparse_categorical_crossentropy',              \n",
        "              metrics=['accuracy'])"
      ],
      "execution_count": 91,
      "outputs": []
    },
    {
      "cell_type": "code",
      "metadata": {
        "colab": {
          "base_uri": "https://localhost:8080/"
        },
        "id": "1n_nWTrFq1Tl",
        "outputId": "587a8ec6-742e-4d5e-ffc9-ef78b96f23a5"
      },
      "source": [
        "start_time = datetime.now()\n",
        "history = model.fit(train_images, train_labels, epochs=30,\n",
        "                    validation_data=(val_images, val_labels))\n",
        "end_time = datetime.now()\n"
      ],
      "execution_count": 92,
      "outputs": [
        {
          "output_type": "stream",
          "text": [
            "Train on 55000 samples, validate on 5000 samples\n",
            "Epoch 1/30\n",
            "54752/55000 [============================>.] - ETA: 0s - loss: 0.2358 - accuracy: 0.9309"
          ],
          "name": "stdout"
        },
        {
          "output_type": "stream",
          "text": [
            "/usr/local/lib/python3.7/dist-packages/tensorflow/python/keras/engine/training.py:2426: UserWarning: `Model.state_updates` will be removed in a future version. This property should not be used in TensorFlow 2.0, as `updates` are applied automatically.\n",
            "  warnings.warn('`Model.state_updates` will be removed in a future version. '\n"
          ],
          "name": "stderr"
        },
        {
          "output_type": "stream",
          "text": [
            "55000/55000 [==============================] - 8s 137us/sample - loss: 0.2355 - accuracy: 0.9310 - val_loss: 0.1274 - val_accuracy: 0.9618\n",
            "Epoch 2/30\n",
            "55000/55000 [==============================] - 8s 138us/sample - loss: 0.1050 - accuracy: 0.9691 - val_loss: 0.0844 - val_accuracy: 0.9736\n",
            "Epoch 3/30\n",
            "55000/55000 [==============================] - 8s 138us/sample - loss: 0.0769 - accuracy: 0.9778 - val_loss: 0.0809 - val_accuracy: 0.9780\n",
            "Epoch 4/30\n",
            "55000/55000 [==============================] - 8s 139us/sample - loss: 0.0605 - accuracy: 0.9827 - val_loss: 0.0808 - val_accuracy: 0.9774\n",
            "Epoch 5/30\n",
            "55000/55000 [==============================] - 8s 140us/sample - loss: 0.0487 - accuracy: 0.9863 - val_loss: 0.0763 - val_accuracy: 0.9788\n",
            "Epoch 6/30\n",
            "55000/55000 [==============================] - 7s 134us/sample - loss: 0.0403 - accuracy: 0.9890 - val_loss: 0.0882 - val_accuracy: 0.9774\n",
            "Epoch 7/30\n",
            "55000/55000 [==============================] - 7s 136us/sample - loss: 0.0335 - accuracy: 0.9906 - val_loss: 0.0902 - val_accuracy: 0.9774\n",
            "Epoch 8/30\n",
            "55000/55000 [==============================] - 8s 139us/sample - loss: 0.0280 - accuracy: 0.9924 - val_loss: 0.0799 - val_accuracy: 0.9826\n",
            "Epoch 9/30\n",
            "55000/55000 [==============================] - 7s 136us/sample - loss: 0.0231 - accuracy: 0.9937 - val_loss: 0.0831 - val_accuracy: 0.9806\n",
            "Epoch 10/30\n",
            "55000/55000 [==============================] - 7s 136us/sample - loss: 0.0192 - accuracy: 0.9944 - val_loss: 0.0888 - val_accuracy: 0.9814\n",
            "Epoch 11/30\n",
            "55000/55000 [==============================] - 7s 134us/sample - loss: 0.0170 - accuracy: 0.9955 - val_loss: 0.0995 - val_accuracy: 0.9790\n",
            "Epoch 12/30\n",
            "55000/55000 [==============================] - 7s 135us/sample - loss: 0.0132 - accuracy: 0.9963 - val_loss: 0.0935 - val_accuracy: 0.9808\n",
            "Epoch 13/30\n",
            "55000/55000 [==============================] - 7s 136us/sample - loss: 0.0115 - accuracy: 0.9967 - val_loss: 0.1055 - val_accuracy: 0.9776\n",
            "Epoch 14/30\n",
            "55000/55000 [==============================] - 7s 134us/sample - loss: 0.0096 - accuracy: 0.9975 - val_loss: 0.1014 - val_accuracy: 0.9806\n",
            "Epoch 15/30\n",
            "55000/55000 [==============================] - 7s 135us/sample - loss: 0.0084 - accuracy: 0.9976 - val_loss: 0.1158 - val_accuracy: 0.9796\n",
            "Epoch 16/30\n",
            "55000/55000 [==============================] - 7s 135us/sample - loss: 0.0074 - accuracy: 0.9981 - val_loss: 0.1095 - val_accuracy: 0.9790\n",
            "Epoch 17/30\n",
            "55000/55000 [==============================] - 7s 135us/sample - loss: 0.0063 - accuracy: 0.9983 - val_loss: 0.1197 - val_accuracy: 0.9798\n",
            "Epoch 18/30\n",
            "55000/55000 [==============================] - 7s 136us/sample - loss: 0.0050 - accuracy: 0.9985 - val_loss: 0.1132 - val_accuracy: 0.9802\n",
            "Epoch 19/30\n",
            "55000/55000 [==============================] - 8s 137us/sample - loss: 0.0043 - accuracy: 0.9989 - val_loss: 0.1239 - val_accuracy: 0.9788\n",
            "Epoch 20/30\n",
            "55000/55000 [==============================] - 8s 137us/sample - loss: 0.0034 - accuracy: 0.9991 - val_loss: 0.1314 - val_accuracy: 0.9786\n",
            "Epoch 21/30\n",
            "55000/55000 [==============================] - 8s 137us/sample - loss: 0.0025 - accuracy: 0.9994 - val_loss: 0.1327 - val_accuracy: 0.9792\n",
            "Epoch 22/30\n",
            "55000/55000 [==============================] - 8s 140us/sample - loss: 0.0026 - accuracy: 0.9993 - val_loss: 0.1410 - val_accuracy: 0.9798\n",
            "Epoch 23/30\n",
            "55000/55000 [==============================] - 8s 141us/sample - loss: 0.0026 - accuracy: 0.9993 - val_loss: 0.1397 - val_accuracy: 0.9796\n",
            "Epoch 24/30\n",
            "55000/55000 [==============================] - 8s 138us/sample - loss: 0.0023 - accuracy: 0.9993 - val_loss: 0.1478 - val_accuracy: 0.9792\n",
            "Epoch 25/30\n",
            "55000/55000 [==============================] - 8s 137us/sample - loss: 0.0021 - accuracy: 0.9994 - val_loss: 0.1595 - val_accuracy: 0.9792\n",
            "Epoch 26/30\n",
            "55000/55000 [==============================] - 8s 141us/sample - loss: 0.0015 - accuracy: 0.9996 - val_loss: 0.1324 - val_accuracy: 0.9812\n",
            "Epoch 27/30\n",
            "55000/55000 [==============================] - 8s 141us/sample - loss: 0.0013 - accuracy: 0.9997 - val_loss: 0.1436 - val_accuracy: 0.9810\n",
            "Epoch 28/30\n",
            "55000/55000 [==============================] - 8s 142us/sample - loss: 0.0010 - accuracy: 0.9997 - val_loss: 0.1464 - val_accuracy: 0.9816\n",
            "Epoch 29/30\n",
            "55000/55000 [==============================] - 8s 138us/sample - loss: 6.6039e-04 - accuracy: 0.9998 - val_loss: 0.1557 - val_accuracy: 0.9794\n",
            "Epoch 30/30\n",
            "55000/55000 [==============================] - 8s 139us/sample - loss: 7.3895e-04 - accuracy: 0.9997 - val_loss: 0.1485 - val_accuracy: 0.9806\n"
          ],
          "name": "stdout"
        }
      ]
    },
    {
      "cell_type": "code",
      "metadata": {
        "colab": {
          "base_uri": "https://localhost:8080/"
        },
        "id": "PJRFScmTq1Tl",
        "outputId": "264a7534-700f-4058-ff2e-69f2a035b84c"
      },
      "source": [
        "train_time = end_time - start_time\n",
        "print(f'training time: {train_time}')"
      ],
      "execution_count": 93,
      "outputs": [
        {
          "output_type": "stream",
          "text": [
            "training time: 0:03:47.116609\n"
          ],
          "name": "stdout"
        }
      ]
    },
    {
      "cell_type": "code",
      "metadata": {
        "id": "cM0DDmPDq1Tl"
      },
      "source": [
        "test_loss, test_acc = model.evaluate(test_images, test_labels)"
      ],
      "execution_count": 94,
      "outputs": []
    },
    {
      "cell_type": "code",
      "metadata": {
        "colab": {
          "base_uri": "https://localhost:8080/"
        },
        "id": "hFyu7gmbq1Tm",
        "outputId": "b3508fc5-8f48-4f9b-cbc2-4079eadafab5"
      },
      "source": [
        "print(f'test acc: {test_acc}, test loss: {test_loss}')"
      ],
      "execution_count": 95,
      "outputs": [
        {
          "output_type": "stream",
          "text": [
            "test acc: 0.9807000160217285, test loss: 0.17539621745624587\n"
          ],
          "name": "stdout"
        }
      ]
    },
    {
      "cell_type": "code",
      "metadata": {
        "id": "X55HvvMnq1Tn"
      },
      "source": [
        "history_dict = history.history"
      ],
      "execution_count": 96,
      "outputs": []
    },
    {
      "cell_type": "code",
      "metadata": {
        "colab": {
          "base_uri": "https://localhost:8080/",
          "height": 295
        },
        "id": "kMYPh7GGq1Tn",
        "outputId": "9e014965-7d6a-41cd-fccd-abb1f80553ce"
      },
      "source": [
        "acc = history.history['accuracy']\n",
        "val_acc = history.history['val_accuracy']\n",
        "loss = history.history['loss']\n",
        "val_loss = history.history['val_loss']\n",
        "\n",
        "epochs = range(1, len(acc) + 1)\n",
        "\n",
        "# \"bo\" is for \"blue dot\"\n",
        "plt.plot(epochs, loss, 'bo', label='Training loss')\n",
        "# b is for \"solid blue line\"\n",
        "plt.plot(epochs, val_loss, 'b', label='Validation loss')\n",
        "plt.title('Training and validation loss')\n",
        "\n",
        "plt.xlabel('Epochs')\n",
        "plt.ylabel('Loss')\n",
        "plt.legend()\n",
        "\n",
        "plt.show()"
      ],
      "execution_count": 97,
      "outputs": [
        {
          "output_type": "display_data",
          "data": {
            "image/png": "[encoded data removed]",
            "text/plain": [
              "<Figure size 432x288 with 1 Axes>"
            ]
          },
          "metadata": {
            "tags": [],
            "needs_background": "light"
          }
        }
      ]
    },
    {
      "cell_type": "code",
      "metadata": {
        "colab": {
          "base_uri": "https://localhost:8080/",
          "height": 295
        },
        "id": "GuR5Fbbaq1Tp",
        "outputId": "264042d6-9194-4704-a883-288883b0bc90"
      },
      "source": [
        "plt.clf()   # clear figure\n",
        "acc_values = history_dict['accuracy']\n",
        "# val_acc_values = history_dict['val_acc']\n",
        "\n",
        "plt.plot(epochs, acc, 'bo', label='Training acc')\n",
        "plt.plot(epochs, val_acc, 'b', label='Validation acc')\n",
        "plt.title('Training and validation accuracy')\n",
        "\n",
        "plt.xlabel('Epochs')\n",
        "plt.ylabel('Accuracy')\n",
        "plt.legend()\n",
        "\n",
        "plt.show()"
      ],
      "execution_count": 98,
      "outputs": [
        {
          "output_type": "display_data",
          "data": {
            "image/png": "[encoded data removed]",
            "text/plain": [
              "<Figure size 432x288 with 1 Axes>"
            ]
          },
          "metadata": {
            "tags": [],
            "needs_background": "light"
          }
        }
      ]
    },
    {
      "cell_type": "code",
      "metadata": {
        "colab": {
          "base_uri": "https://localhost:8080/"
        },
        "id": "PpAfJ3Xrq1Tq",
        "outputId": "b98eda28-4c88-4b3d-cf01-67b38179585f"
      },
      "source": [
        "# Get the predicted classes:\n",
        "pred_classes = np.argmax(model.predict(train_images), axis=-1)"
      ],
      "execution_count": 99,
      "outputs": [
        {
          "output_type": "stream",
          "text": [
            "/usr/local/lib/python3.7/dist-packages/tensorflow/python/keras/engine/training.py:2426: UserWarning: `Model.state_updates` will be removed in a future version. This property should not be used in TensorFlow 2.0, as `updates` are applied automatically.\n",
            "  warnings.warn('`Model.state_updates` will be removed in a future version. '\n"
          ],
          "name": "stderr"
        }
      ]
    },
    {
      "cell_type": "code",
      "metadata": {
        "colab": {
          "base_uri": "https://localhost:8080/"
        },
        "id": "a2QTOMCgq1Tq",
        "outputId": "dc797d04-f6c5-405c-f443-26a5c991da5c"
      },
      "source": [
        "from sklearn.metrics import confusion_matrix\n",
        "\n",
        "conf_mx = confusion_matrix(train_labels,pred_classes)\n",
        "conf_mx"
      ],
      "execution_count": 100,
      "outputs": [
        {
          "output_type": "execute_result",
          "data": {
            "text/plain": [
              "array([[5444,    0,    0,    0,    0,    0,    0,    0,    0,    0],\n",
              "       [   0, 6179,    0,    0,    0,    0,    0,    0,    0,    0],\n",
              "       [   0,    0, 5470,    0,    0,    0,    0,    0,    0,    0],\n",
              "       [   0,    0,    0, 5638,    0,    0,    0,    0,    0,    0],\n",
              "       [   0,    0,    0,    0, 5306,    0,    1,    0,    0,    0],\n",
              "       [   0,    0,    0,    0,    0, 4987,    0,    0,    0,    0],\n",
              "       [   0,    0,    0,    0,    0,    0, 5417,    0,    0,    0],\n",
              "       [   0,    0,    0,    0,    0,    0,    0, 5715,    0,    0],\n",
              "       [   0,    0,    0,    0,    0,    0,    0,    0, 5389,    0],\n",
              "       [   0,    0,    0,    0,    0,    0,    0,    0,    0, 5454]])"
            ]
          },
          "metadata": {
            "tags": []
          },
          "execution_count": 100
        }
      ]
    },
    {
      "cell_type": "code",
      "metadata": {
        "colab": {
          "base_uri": "https://localhost:8080/",
          "height": 285
        },
        "id": "f3yWxkoGq1Tr",
        "outputId": "d6c226c1-fd5b-4229-838c-e26df7fdac99"
      },
      "source": [
        "plt.matshow(conf_mx, cmap=plt.cm.gray)\n",
        "plt.xlabel(\"Predicted Classes\")\n",
        "plt.ylabel(\"Actual Classes\")\n",
        "plt.show()"
      ],
      "execution_count": 101,
      "outputs": [
        {
          "output_type": "display_data",
          "data": {
            "image/png": "[encoded data removed]",
            "text/plain": [
              "<Figure size 288x288 with 1 Axes>"
            ]
          },
          "metadata": {
            "tags": [],
            "needs_background": "light"
          }
        }
      ]
    },
    {
      "cell_type": "code",
      "metadata": {
        "id": "8hGGZUkeq1Tr"
      },
      "source": [
        "row_sums = conf_mx.sum(axis=1, keepdims=True)\n",
        "norm_conf_mx = conf_mx / row_sums"
      ],
      "execution_count": 102,
      "outputs": []
    },
    {
      "cell_type": "code",
      "metadata": {
        "colab": {
          "base_uri": "https://localhost:8080/",
          "height": 285
        },
        "id": "yitjEM2rq1Ts",
        "outputId": "dbb315df-d3b9-406d-df59-d592842c0963"
      },
      "source": [
        "np.fill_diagonal(norm_conf_mx, 0)\n",
        "plt.matshow(norm_conf_mx, cmap=plt.cm.gray)\n",
        "plt.xlabel(\"Predicted Classes\")\n",
        "plt.ylabel(\"Actual Classes\")\n",
        "#plt.savefig(\"confusion_matrix_errors_plot_mnist_val\", tight_layout=False)\n",
        "plt.show()"
      ],
      "execution_count": 103,
      "outputs": [
        {
          "output_type": "display_data",
          "data": {
            "image/png": "[encoded data removed]",
            "text/plain": [
              "<Figure size 288x288 with 1 Axes>"
            ]
          },
          "metadata": {
            "tags": [],
            "needs_background": "light"
          }
        }
      ]
    },
    {
      "cell_type": "markdown",
      "metadata": {
        "id": "qCDS0dEyrdoH"
      },
      "source": [
        "# **Experiment 3 - 512 nodes**"
      ]
    },
    {
      "cell_type": "code",
      "metadata": {
        "id": "MpjSQX8krdoO"
      },
      "source": [
        "model = models.Sequential()\n",
        "model.add(layers.Dense(512, activation='relu', input_shape=(28 * 28,)))\n",
        "model.add(layers.Dense(10, activation='softmax'))"
      ],
      "execution_count": 104,
      "outputs": []
    },
    {
      "cell_type": "code",
      "metadata": {
        "colab": {
          "base_uri": "https://localhost:8080/",
          "height": 312
        },
        "id": "4aEwmrXYrdoP",
        "outputId": "abe14032-bd37-4cac-a5a3-99a0001b01ed"
      },
      "source": [
        "keras.utils.plot_model(model, \"mnist_model_2hnode.png\", show_shapes=True)"
      ],
      "execution_count": 105,
      "outputs": [
        {
          "output_type": "execute_result",
          "data": {
            "image/png": "[encoded data removed]",
            "text/plain": [
              "<IPython.core.display.Image object>"
            ]
          },
          "metadata": {
            "tags": []
          },
          "execution_count": 105
        }
      ]
    },
    {
      "cell_type": "code",
      "metadata": {
        "id": "sPh1dQGOrdoQ"
      },
      "source": [
        "model.compile(optimizer='rmsprop',\n",
        "              loss='sparse_categorical_crossentropy',              \n",
        "              metrics=['accuracy'])"
      ],
      "execution_count": 106,
      "outputs": []
    },
    {
      "cell_type": "code",
      "metadata": {
        "colab": {
          "base_uri": "https://localhost:8080/"
        },
        "id": "vzgJAsa2rdoQ",
        "outputId": "11a1dd57-3e5a-425c-8353-df44f72fb38f"
      },
      "source": [
        "start_time = datetime.now()\n",
        "history = model.fit(train_images, train_labels, epochs=30,\n",
        "                    validation_data=(val_images, val_labels))\n",
        "end_time = datetime.now()\n"
      ],
      "execution_count": 107,
      "outputs": [
        {
          "output_type": "stream",
          "text": [
            "Train on 55000 samples, validate on 5000 samples\n",
            "Epoch 1/30\n",
            "54784/55000 [============================>.] - ETA: 0s - loss: 0.2095 - accuracy: 0.9380"
          ],
          "name": "stdout"
        },
        {
          "output_type": "stream",
          "text": [
            "/usr/local/lib/python3.7/dist-packages/tensorflow/python/keras/engine/training.py:2426: UserWarning: `Model.state_updates` will be removed in a future version. This property should not be used in TensorFlow 2.0, as `updates` are applied automatically.\n",
            "  warnings.warn('`Model.state_updates` will be removed in a future version. '\n"
          ],
          "name": "stderr"
        },
        {
          "output_type": "stream",
          "text": [
            "55000/55000 [==============================] - 12s 219us/sample - loss: 0.2092 - accuracy: 0.9381 - val_loss: 0.1081 - val_accuracy: 0.9676\n",
            "Epoch 2/30\n",
            "55000/55000 [==============================] - 12s 210us/sample - loss: 0.0949 - accuracy: 0.9726 - val_loss: 0.0841 - val_accuracy: 0.9764\n",
            "Epoch 3/30\n",
            "55000/55000 [==============================] - 12s 211us/sample - loss: 0.0683 - accuracy: 0.9807 - val_loss: 0.0837 - val_accuracy: 0.9786\n",
            "Epoch 4/30\n",
            "55000/55000 [==============================] - 12s 212us/sample - loss: 0.0514 - accuracy: 0.9853 - val_loss: 0.0836 - val_accuracy: 0.9770\n",
            "Epoch 5/30\n",
            "55000/55000 [==============================] - 12s 216us/sample - loss: 0.0415 - accuracy: 0.9888 - val_loss: 0.0839 - val_accuracy: 0.9792\n",
            "Epoch 6/30\n",
            "55000/55000 [==============================] - 12s 218us/sample - loss: 0.0336 - accuracy: 0.9909 - val_loss: 0.0906 - val_accuracy: 0.9784\n",
            "Epoch 7/30\n",
            "55000/55000 [==============================] - 12s 221us/sample - loss: 0.0270 - accuracy: 0.9924 - val_loss: 0.0900 - val_accuracy: 0.9804\n",
            "Epoch 8/30\n",
            "55000/55000 [==============================] - 13s 236us/sample - loss: 0.0229 - accuracy: 0.9941 - val_loss: 0.0855 - val_accuracy: 0.9788\n",
            "Epoch 9/30\n",
            "55000/55000 [==============================] - 13s 227us/sample - loss: 0.0177 - accuracy: 0.9952 - val_loss: 0.0985 - val_accuracy: 0.9822\n",
            "Epoch 10/30\n",
            "55000/55000 [==============================] - 12s 223us/sample - loss: 0.0144 - accuracy: 0.9961 - val_loss: 0.0949 - val_accuracy: 0.9808\n",
            "Epoch 11/30\n",
            "55000/55000 [==============================] - 12s 222us/sample - loss: 0.0111 - accuracy: 0.9971 - val_loss: 0.1078 - val_accuracy: 0.9800\n",
            "Epoch 12/30\n",
            "55000/55000 [==============================] - 12s 217us/sample - loss: 0.0104 - accuracy: 0.9971 - val_loss: 0.1187 - val_accuracy: 0.9796\n",
            "Epoch 13/30\n",
            "55000/55000 [==============================] - 12s 221us/sample - loss: 0.0083 - accuracy: 0.9977 - val_loss: 0.1181 - val_accuracy: 0.9820\n",
            "Epoch 14/30\n",
            "55000/55000 [==============================] - 12s 218us/sample - loss: 0.0078 - accuracy: 0.9981 - val_loss: 0.1236 - val_accuracy: 0.9818\n",
            "Epoch 15/30\n",
            "55000/55000 [==============================] - 12s 217us/sample - loss: 0.0056 - accuracy: 0.9985 - val_loss: 0.1216 - val_accuracy: 0.9816\n",
            "Epoch 16/30\n",
            "55000/55000 [==============================] - 12s 217us/sample - loss: 0.0058 - accuracy: 0.9987 - val_loss: 0.1298 - val_accuracy: 0.9810\n",
            "Epoch 17/30\n",
            "55000/55000 [==============================] - 12s 217us/sample - loss: 0.0035 - accuracy: 0.9989 - val_loss: 0.1339 - val_accuracy: 0.9808\n",
            "Epoch 18/30\n",
            "55000/55000 [==============================] - 12s 217us/sample - loss: 0.0037 - accuracy: 0.9989 - val_loss: 0.1274 - val_accuracy: 0.9818\n",
            "Epoch 19/30\n",
            "55000/55000 [==============================] - 12s 219us/sample - loss: 0.0027 - accuracy: 0.9992 - val_loss: 0.1307 - val_accuracy: 0.9820\n",
            "Epoch 20/30\n",
            "55000/55000 [==============================] - 12s 212us/sample - loss: 0.0026 - accuracy: 0.9992 - val_loss: 0.1364 - val_accuracy: 0.9818\n",
            "Epoch 21/30\n",
            "55000/55000 [==============================] - 12s 218us/sample - loss: 0.0021 - accuracy: 0.9993 - val_loss: 0.1384 - val_accuracy: 0.9802\n",
            "Epoch 22/30\n",
            "55000/55000 [==============================] - 12s 215us/sample - loss: 0.0015 - accuracy: 0.9995 - val_loss: 0.1514 - val_accuracy: 0.9808\n",
            "Epoch 23/30\n",
            "55000/55000 [==============================] - 12s 217us/sample - loss: 0.0012 - accuracy: 0.9996 - val_loss: 0.1393 - val_accuracy: 0.9820\n",
            "Epoch 24/30\n",
            "55000/55000 [==============================] - 12s 219us/sample - loss: 0.0012 - accuracy: 0.9996 - val_loss: 0.1642 - val_accuracy: 0.9808\n",
            "Epoch 25/30\n",
            "55000/55000 [==============================] - 12s 218us/sample - loss: 0.0012 - accuracy: 0.9997 - val_loss: 0.1616 - val_accuracy: 0.9798\n",
            "Epoch 26/30\n",
            "55000/55000 [==============================] - 12s 217us/sample - loss: 8.7163e-04 - accuracy: 0.9998 - val_loss: 0.1683 - val_accuracy: 0.9788\n",
            "Epoch 27/30\n",
            "55000/55000 [==============================] - 12s 214us/sample - loss: 9.6182e-04 - accuracy: 0.9997 - val_loss: 0.1663 - val_accuracy: 0.9812\n",
            "Epoch 28/30\n",
            "55000/55000 [==============================] - 12s 218us/sample - loss: 4.2564e-04 - accuracy: 0.9999 - val_loss: 0.1630 - val_accuracy: 0.9834\n",
            "Epoch 29/30\n",
            "55000/55000 [==============================] - 12s 216us/sample - loss: 4.6953e-04 - accuracy: 0.9999 - val_loss: 0.1726 - val_accuracy: 0.9828\n",
            "Epoch 30/30\n",
            "55000/55000 [==============================] - 12s 216us/sample - loss: 3.8982e-04 - accuracy: 0.9999 - val_loss: 0.1664 - val_accuracy: 0.9820\n"
          ],
          "name": "stdout"
        }
      ]
    },
    {
      "cell_type": "code",
      "metadata": {
        "colab": {
          "base_uri": "https://localhost:8080/"
        },
        "id": "4PhBptsyrdoR",
        "outputId": "b41ab40d-f965-4395-e8ee-4ebd63ac22a9"
      },
      "source": [
        "train_time = end_time - start_time\n",
        "print(f'training time: {train_time}')"
      ],
      "execution_count": 108,
      "outputs": [
        {
          "output_type": "stream",
          "text": [
            "training time: 0:06:00.177791\n"
          ],
          "name": "stdout"
        }
      ]
    },
    {
      "cell_type": "code",
      "metadata": {
        "id": "puhvDTk4rdoR"
      },
      "source": [
        "test_loss, test_acc = model.evaluate(test_images, test_labels)"
      ],
      "execution_count": 109,
      "outputs": []
    },
    {
      "cell_type": "code",
      "metadata": {
        "colab": {
          "base_uri": "https://localhost:8080/"
        },
        "id": "fMVP9qjardoU",
        "outputId": "45b158c6-d166-4aaa-9b1c-a1eb87a1e338"
      },
      "source": [
        "print(f'test acc: {test_acc}, test loss: {test_loss}')"
      ],
      "execution_count": 110,
      "outputs": [
        {
          "output_type": "stream",
          "text": [
            "test acc: 0.9817000031471252, test loss: 0.18769141813024048\n"
          ],
          "name": "stdout"
        }
      ]
    },
    {
      "cell_type": "code",
      "metadata": {
        "id": "VhF5CMiprdoU"
      },
      "source": [
        "history_dict = history.history"
      ],
      "execution_count": 111,
      "outputs": []
    },
    {
      "cell_type": "code",
      "metadata": {
        "colab": {
          "base_uri": "https://localhost:8080/",
          "height": 295
        },
        "id": "BvYmwSURrdoV",
        "outputId": "88992820-805b-4b28-bef3-c6da81ae77ab"
      },
      "source": [
        "acc = history.history['accuracy']\n",
        "val_acc = history.history['val_accuracy']\n",
        "loss = history.history['loss']\n",
        "val_loss = history.history['val_loss']\n",
        "\n",
        "epochs = range(1, len(acc) + 1)\n",
        "\n",
        "# \"bo\" is for \"blue dot\"\n",
        "plt.plot(epochs, loss, 'bo', label='Training loss')\n",
        "# b is for \"solid blue line\"\n",
        "plt.plot(epochs, val_loss, 'b', label='Validation loss')\n",
        "plt.title('Training and validation loss')\n",
        "\n",
        "plt.xlabel('Epochs')\n",
        "plt.ylabel('Loss')\n",
        "plt.legend()\n",
        "\n",
        "plt.show()"
      ],
      "execution_count": 112,
      "outputs": [
        {
          "output_type": "display_data",
          "data": {
            "image/png": "[encoded data removed]",
            "text/plain": [
              "<Figure size 432x288 with 1 Axes>"
            ]
          },
          "metadata": {
            "tags": [],
            "needs_background": "light"
          }
        }
      ]
    },
    {
      "cell_type": "code",
      "metadata": {
        "colab": {
          "base_uri": "https://localhost:8080/",
          "height": 295
        },
        "id": "lpWMwGNjrdoW",
        "outputId": "e495b0d8-eaae-4805-c81b-647bfd60a4f9"
      },
      "source": [
        "plt.clf()   # clear figure\n",
        "acc_values = history_dict['accuracy']\n",
        "# val_acc_values = history_dict['val_acc']\n",
        "\n",
        "plt.plot(epochs, acc, 'bo', label='Training acc')\n",
        "plt.plot(epochs, val_acc, 'b', label='Validation acc')\n",
        "plt.title('Training and validation accuracy')\n",
        "\n",
        "plt.xlabel('Epochs')\n",
        "plt.ylabel('Accuracy')\n",
        "plt.legend()\n",
        "\n",
        "plt.show()"
      ],
      "execution_count": 113,
      "outputs": [
        {
          "output_type": "display_data",
          "data": {
            "image/png": "[encoded data removed]",
            "text/plain": [
              "<Figure size 432x288 with 1 Axes>"
            ]
          },
          "metadata": {
            "tags": [],
            "needs_background": "light"
          }
        }
      ]
    },
    {
      "cell_type": "code",
      "metadata": {
        "colab": {
          "base_uri": "https://localhost:8080/"
        },
        "id": "eP8kaj7CrdoW",
        "outputId": "b281558b-4b2f-46b6-f90c-9fb88a6cc777"
      },
      "source": [
        "# Get the predicted classes:\n",
        "pred_classes = np.argmax(model.predict(train_images), axis=-1)"
      ],
      "execution_count": 114,
      "outputs": [
        {
          "output_type": "stream",
          "text": [
            "/usr/local/lib/python3.7/dist-packages/tensorflow/python/keras/engine/training.py:2426: UserWarning: `Model.state_updates` will be removed in a future version. This property should not be used in TensorFlow 2.0, as `updates` are applied automatically.\n",
            "  warnings.warn('`Model.state_updates` will be removed in a future version. '\n"
          ],
          "name": "stderr"
        }
      ]
    },
    {
      "cell_type": "code",
      "metadata": {
        "colab": {
          "base_uri": "https://localhost:8080/"
        },
        "id": "_nlF-gpRrdoX",
        "outputId": "551b9442-835a-4a45-8409-de829e5ea47b"
      },
      "source": [
        "from sklearn.metrics import confusion_matrix\n",
        "\n",
        "conf_mx = confusion_matrix(train_labels,pred_classes)\n",
        "conf_mx"
      ],
      "execution_count": 115,
      "outputs": [
        {
          "output_type": "execute_result",
          "data": {
            "text/plain": [
              "array([[5444,    0,    0,    0,    0,    0,    0,    0,    0,    0],\n",
              "       [   0, 6176,    0,    0,    0,    0,    0,    3,    0,    0],\n",
              "       [   0,    0, 5470,    0,    0,    0,    0,    0,    0,    0],\n",
              "       [   0,    0,    0, 5635,    0,    0,    0,    0,    3,    0],\n",
              "       [   0,    0,    0,    0, 5307,    0,    0,    0,    0,    0],\n",
              "       [   0,    0,    0,    0,    0, 4987,    0,    0,    0,    0],\n",
              "       [   0,    0,    0,    0,    0,    0, 5417,    0,    0,    0],\n",
              "       [   0,    0,    0,    0,    0,    0,    0, 5715,    0,    0],\n",
              "       [   0,    0,    0,    0,    0,    0,    0,    0, 5389,    0],\n",
              "       [   0,    0,    0,    0,    0,    0,    0,    0,    0, 5454]])"
            ]
          },
          "metadata": {
            "tags": []
          },
          "execution_count": 115
        }
      ]
    },
    {
      "cell_type": "code",
      "metadata": {
        "colab": {
          "base_uri": "https://localhost:8080/",
          "height": 285
        },
        "id": "IXcrsUPbrdoY",
        "outputId": "acd02120-7693-4b96-84e5-2e2cdd99da8b"
      },
      "source": [
        "plt.matshow(conf_mx, cmap=plt.cm.gray)\n",
        "plt.xlabel(\"Predicted Classes\")\n",
        "plt.ylabel(\"Actual Classes\")\n",
        "plt.show()"
      ],
      "execution_count": 116,
      "outputs": [
        {
          "output_type": "display_data",
          "data": {
            "image/png": "[encoded data removed]",
            "text/plain": [
              "<Figure size 288x288 with 1 Axes>"
            ]
          },
          "metadata": {
            "tags": [],
            "needs_background": "light"
          }
        }
      ]
    },
    {
      "cell_type": "code",
      "metadata": {
        "id": "HfSbyZRLrdoY"
      },
      "source": [
        "row_sums = conf_mx.sum(axis=1, keepdims=True)\n",
        "norm_conf_mx = conf_mx / row_sums"
      ],
      "execution_count": 117,
      "outputs": []
    },
    {
      "cell_type": "code",
      "metadata": {
        "colab": {
          "base_uri": "https://localhost:8080/",
          "height": 285
        },
        "id": "z7pVu4U0rdoY",
        "outputId": "7759938b-69c8-4828-824c-893404e3ec22"
      },
      "source": [
        "np.fill_diagonal(norm_conf_mx, 0)\n",
        "plt.matshow(norm_conf_mx, cmap=plt.cm.gray)\n",
        "plt.xlabel(\"Predicted Classes\")\n",
        "plt.ylabel(\"Actual Classes\")\n",
        "#plt.savefig(\"confusion_matrix_errors_plot_mnist_val\", tight_layout=False)\n",
        "plt.show()"
      ],
      "execution_count": 118,
      "outputs": [
        {
          "output_type": "display_data",
          "data": {
            "image/png": "[encoded data removed]",
            "text/plain": [
              "<Figure size 288x288 with 1 Axes>"
            ]
          },
          "metadata": {
            "tags": [],
            "needs_background": "light"
          }
        }
      ]
    },
    {
      "cell_type": "markdown",
      "metadata": {
        "id": "xNcY-44gvxuV"
      },
      "source": [
        "# **Experiment 4 - PCA**"
      ]
    },
    {
      "cell_type": "code",
      "metadata": {
        "id": "JSxiR-WywMgN"
      },
      "source": [
        "from sklearn.decomposition import PCA"
      ],
      "execution_count": 120,
      "outputs": []
    },
    {
      "cell_type": "code",
      "metadata": {
        "id": "DSFyaS4dv2D1"
      },
      "source": [
        "pca = PCA(n_components=0.95)\n",
        "train_images_red = pca.fit_transform(train_images)\n",
        "val_images_red = pca.transform(val_images)\n",
        "test_images_red = pca.transform(test_images)"
      ],
      "execution_count": 133,
      "outputs": []
    },
    {
      "cell_type": "code",
      "metadata": {
        "id": "Fthofj8dy-oy"
      },
      "source": [
        "model = models.Sequential()\n",
        "model.add(layers.Dense(128, activation='relu', input_shape=(154,)))\n",
        "model.add(layers.Dense(10, activation='softmax'))  \n",
        "\n",
        "# For use with non-categorical labels\n",
        "model.compile(optimizer='rmsprop',\n",
        "                loss='sparse_categorical_crossentropy',\n",
        "                metrics=['accuracy'])\n"
      ],
      "execution_count": 134,
      "outputs": []
    },
    {
      "cell_type": "code",
      "metadata": {
        "colab": {
          "base_uri": "https://localhost:8080/",
          "height": 312
        },
        "id": "w2xJKvD1zB6E",
        "outputId": "3e7369f4-c5f4-4cd6-f7a0-134c59fa761b"
      },
      "source": [
        "keras.utils.plot_model(model, \"mnist_model_1hnode.png\", show_shapes=True)"
      ],
      "execution_count": 135,
      "outputs": [
        {
          "output_type": "execute_result",
          "data": {
            "image/png": "[encoded data removed]",
            "text/plain": [
              "<IPython.core.display.Image object>"
            ]
          },
          "metadata": {
            "tags": []
          },
          "execution_count": 135
        }
      ]
    },
    {
      "cell_type": "code",
      "metadata": {
        "colab": {
          "base_uri": "https://localhost:8080/"
        },
        "id": "kV9Uwi3MzCGN",
        "outputId": "6b8d906b-7bdc-413a-88b6-7d662a87380a"
      },
      "source": [
        "model.summary()"
      ],
      "execution_count": 136,
      "outputs": [
        {
          "output_type": "stream",
          "text": [
            "Model: \"sequential_7\"\n",
            "_________________________________________________________________\n",
            "Layer (type)                 Output Shape              Param #   \n",
            "=================================================================\n",
            "dense_14 (Dense)             (None, 85)                13175     \n",
            "_________________________________________________________________\n",
            "dense_15 (Dense)             (None, 10)                860       \n",
            "=================================================================\n",
            "Total params: 14,035\n",
            "Trainable params: 14,035\n",
            "Non-trainable params: 0\n",
            "_________________________________________________________________\n"
          ],
          "name": "stdout"
        }
      ]
    },
    {
      "cell_type": "code",
      "metadata": {
        "colab": {
          "base_uri": "https://localhost:8080/"
        },
        "id": "MKndw5DNzCVh",
        "outputId": "b1c57ee0-6d10-407f-90ab-0b725c2adb7b"
      },
      "source": [
        "start_time = datetime.now()\n",
        "history = model.fit(train_images_red, train_labels, epochs=30,\n",
        "                    validation_data=(val_images_red, val_labels))\n",
        "end_time = datetime.now()"
      ],
      "execution_count": 137,
      "outputs": [
        {
          "output_type": "stream",
          "text": [
            "Train on 55000 samples, validate on 5000 samples\n",
            "Epoch 1/30\n",
            "54080/55000 [============================>.] - ETA: 0s - loss: 0.3490 - accuracy: 0.9050"
          ],
          "name": "stdout"
        },
        {
          "output_type": "stream",
          "text": [
            "/usr/local/lib/python3.7/dist-packages/tensorflow/python/keras/engine/training.py:2426: UserWarning: `Model.state_updates` will be removed in a future version. This property should not be used in TensorFlow 2.0, as `updates` are applied automatically.\n",
            "  warnings.warn('`Model.state_updates` will be removed in a future version. '\n"
          ],
          "name": "stderr"
        },
        {
          "output_type": "stream",
          "text": [
            "55000/55000 [==============================] - 3s 49us/sample - loss: 0.3468 - accuracy: 0.9055 - val_loss: 0.1603 - val_accuracy: 0.9544\n",
            "Epoch 2/30\n",
            "55000/55000 [==============================] - 3s 51us/sample - loss: 0.1379 - accuracy: 0.9603 - val_loss: 0.1203 - val_accuracy: 0.9670\n",
            "Epoch 3/30\n",
            "55000/55000 [==============================] - 2s 45us/sample - loss: 0.0989 - accuracy: 0.9720 - val_loss: 0.1029 - val_accuracy: 0.9686\n",
            "Epoch 4/30\n",
            "55000/55000 [==============================] - 3s 46us/sample - loss: 0.0758 - accuracy: 0.9785 - val_loss: 0.0938 - val_accuracy: 0.9724\n",
            "Epoch 5/30\n",
            "55000/55000 [==============================] - 3s 47us/sample - loss: 0.0615 - accuracy: 0.9824 - val_loss: 0.0877 - val_accuracy: 0.9760\n",
            "Epoch 6/30\n",
            "55000/55000 [==============================] - 3s 47us/sample - loss: 0.0509 - accuracy: 0.9859 - val_loss: 0.0845 - val_accuracy: 0.9768\n",
            "Epoch 7/30\n",
            "55000/55000 [==============================] - 3s 47us/sample - loss: 0.0423 - accuracy: 0.9879 - val_loss: 0.0846 - val_accuracy: 0.9766\n",
            "Epoch 8/30\n",
            "55000/55000 [==============================] - 3s 47us/sample - loss: 0.0355 - accuracy: 0.9903 - val_loss: 0.0834 - val_accuracy: 0.9780\n",
            "Epoch 9/30\n",
            "55000/55000 [==============================] - 3s 47us/sample - loss: 0.0302 - accuracy: 0.9920 - val_loss: 0.0847 - val_accuracy: 0.9802\n",
            "Epoch 10/30\n",
            "55000/55000 [==============================] - 3s 47us/sample - loss: 0.0254 - accuracy: 0.9936 - val_loss: 0.0890 - val_accuracy: 0.9784\n",
            "Epoch 11/30\n",
            "55000/55000 [==============================] - 3s 47us/sample - loss: 0.0215 - accuracy: 0.9944 - val_loss: 0.0928 - val_accuracy: 0.9772\n",
            "Epoch 12/30\n",
            "55000/55000 [==============================] - 3s 47us/sample - loss: 0.0188 - accuracy: 0.9955 - val_loss: 0.0869 - val_accuracy: 0.9794\n",
            "Epoch 13/30\n",
            "55000/55000 [==============================] - 3s 48us/sample - loss: 0.0155 - accuracy: 0.9964 - val_loss: 0.0939 - val_accuracy: 0.9772\n",
            "Epoch 14/30\n",
            "55000/55000 [==============================] - 3s 50us/sample - loss: 0.0136 - accuracy: 0.9971 - val_loss: 0.0973 - val_accuracy: 0.9782\n",
            "Epoch 15/30\n",
            "55000/55000 [==============================] - 3s 48us/sample - loss: 0.0113 - accuracy: 0.9978 - val_loss: 0.1022 - val_accuracy: 0.9770\n",
            "Epoch 16/30\n",
            "55000/55000 [==============================] - 3s 48us/sample - loss: 0.0095 - accuracy: 0.9981 - val_loss: 0.1061 - val_accuracy: 0.9774\n",
            "Epoch 17/30\n",
            "55000/55000 [==============================] - 3s 47us/sample - loss: 0.0082 - accuracy: 0.9984 - val_loss: 0.1076 - val_accuracy: 0.9792\n",
            "Epoch 18/30\n",
            "55000/55000 [==============================] - 3s 53us/sample - loss: 0.0073 - accuracy: 0.9986 - val_loss: 0.1100 - val_accuracy: 0.9778\n",
            "Epoch 19/30\n",
            "55000/55000 [==============================] - 3s 49us/sample - loss: 0.0062 - accuracy: 0.9989 - val_loss: 0.1103 - val_accuracy: 0.9796\n",
            "Epoch 20/30\n",
            "55000/55000 [==============================] - 3s 48us/sample - loss: 0.0050 - accuracy: 0.9992 - val_loss: 0.1156 - val_accuracy: 0.9784\n",
            "Epoch 21/30\n",
            "55000/55000 [==============================] - 3s 50us/sample - loss: 0.0045 - accuracy: 0.9992 - val_loss: 0.1235 - val_accuracy: 0.9774\n",
            "Epoch 22/30\n",
            "55000/55000 [==============================] - 3s 52us/sample - loss: 0.0037 - accuracy: 0.9994 - val_loss: 0.1268 - val_accuracy: 0.9774\n",
            "Epoch 23/30\n",
            "55000/55000 [==============================] - 3s 50us/sample - loss: 0.0032 - accuracy: 0.9995 - val_loss: 0.1269 - val_accuracy: 0.9776\n",
            "Epoch 24/30\n",
            "55000/55000 [==============================] - 3s 49us/sample - loss: 0.0027 - accuracy: 0.9995 - val_loss: 0.1320 - val_accuracy: 0.9762\n",
            "Epoch 25/30\n",
            "55000/55000 [==============================] - 3s 51us/sample - loss: 0.0024 - accuracy: 0.9997 - val_loss: 0.1388 - val_accuracy: 0.9774\n",
            "Epoch 26/30\n",
            "55000/55000 [==============================] - 3s 48us/sample - loss: 0.0019 - accuracy: 0.9997 - val_loss: 0.1425 - val_accuracy: 0.9768\n",
            "Epoch 27/30\n",
            "55000/55000 [==============================] - 3s 48us/sample - loss: 0.0017 - accuracy: 0.9998 - val_loss: 0.1464 - val_accuracy: 0.9782\n",
            "Epoch 28/30\n",
            "55000/55000 [==============================] - 3s 47us/sample - loss: 0.0016 - accuracy: 0.9998 - val_loss: 0.1521 - val_accuracy: 0.9772\n",
            "Epoch 29/30\n",
            "55000/55000 [==============================] - 3s 48us/sample - loss: 0.0014 - accuracy: 0.9998 - val_loss: 0.1558 - val_accuracy: 0.9766\n",
            "Epoch 30/30\n",
            "55000/55000 [==============================] - 3s 54us/sample - loss: 0.0011 - accuracy: 0.9999 - val_loss: 0.1630 - val_accuracy: 0.9760\n"
          ],
          "name": "stdout"
        }
      ]
    },
    {
      "cell_type": "code",
      "metadata": {
        "colab": {
          "base_uri": "https://localhost:8080/"
        },
        "id": "dTIktn95zCaf",
        "outputId": "871642ab-5b3b-4902-dd84-e5946eb490d4"
      },
      "source": [
        "train_time = end_time - start_time\n",
        "print(f'training time: {train_time}')"
      ],
      "execution_count": 138,
      "outputs": [
        {
          "output_type": "stream",
          "text": [
            "training time: 0:01:20.712081\n"
          ],
          "name": "stdout"
        }
      ]
    },
    {
      "cell_type": "code",
      "metadata": {
        "colab": {
          "base_uri": "https://localhost:8080/"
        },
        "id": "e0esNtMJ1m-I",
        "outputId": "b9ae22ea-79dc-43e1-f6db-a02ad710abf6"
      },
      "source": [
        "hist_dict = history.history\n",
        "hist_dict.keys()"
      ],
      "execution_count": 139,
      "outputs": [
        {
          "output_type": "execute_result",
          "data": {
            "text/plain": [
              "dict_keys(['loss', 'accuracy', 'val_loss', 'val_accuracy'])"
            ]
          },
          "metadata": {
            "tags": []
          },
          "execution_count": 139
        }
      ]
    },
    {
      "cell_type": "code",
      "metadata": {
        "colab": {
          "base_uri": "https://localhost:8080/"
        },
        "id": "4mykWTdn1nMz",
        "outputId": "a533067a-0d28-405c-fb7a-385e4e88ef85"
      },
      "source": [
        "print(f'''acc: {hist_dict['accuracy'][-1]:.4}, val acc: {hist_dict['val_accuracy'][-1]:.4},\n",
        "loss: {hist_dict['loss'][-1]:.4}, val loss: {hist_dict['val_loss'][-1]:.4}''')"
      ],
      "execution_count": 140,
      "outputs": [
        {
          "output_type": "stream",
          "text": [
            "acc: 0.9999, val acc: 0.976,\n",
            "loss: 0.001122, val loss: 0.163\n"
          ],
          "name": "stdout"
        }
      ]
    },
    {
      "cell_type": "code",
      "metadata": {
        "id": "2e8UwPPQ1nT_"
      },
      "source": [
        "test_loss, test_acc = model.evaluate(test_images_red, test_labels)"
      ],
      "execution_count": 142,
      "outputs": []
    },
    {
      "cell_type": "code",
      "metadata": {
        "colab": {
          "base_uri": "https://localhost:8080/"
        },
        "id": "v0XGAkjW1nd4",
        "outputId": "1814a76a-8914-49be-9826-ccfb51a13d15"
      },
      "source": [
        "print(f'test acc: {test_acc}, test loss: {test_loss}')"
      ],
      "execution_count": 143,
      "outputs": [
        {
          "output_type": "stream",
          "text": [
            "test acc: 0.9743000268936157, test loss: 0.16992769943412478\n"
          ],
          "name": "stdout"
        }
      ]
    },
    {
      "cell_type": "code",
      "metadata": {
        "colab": {
          "base_uri": "https://localhost:8080/"
        },
        "id": "iPRaQzGl1nmJ",
        "outputId": "68081dd1-2d49-4abe-8792-41a57c066610"
      },
      "source": [
        "history_dict = history.history\n",
        "history_dict.keys()"
      ],
      "execution_count": 144,
      "outputs": [
        {
          "output_type": "execute_result",
          "data": {
            "text/plain": [
              "dict_keys(['loss', 'accuracy', 'val_loss', 'val_accuracy'])"
            ]
          },
          "metadata": {
            "tags": []
          },
          "execution_count": 144
        }
      ]
    },
    {
      "cell_type": "code",
      "metadata": {
        "colab": {
          "base_uri": "https://localhost:8080/",
          "height": 295
        },
        "id": "g_eShMCA5o4F",
        "outputId": "fd5c9b05-f45a-4e30-8d91-348c33da87f5"
      },
      "source": [
        "acc = history.history['accuracy']\n",
        "val_acc = history.history['val_accuracy']\n",
        "loss = history.history['loss']\n",
        "val_loss = history.history['val_loss']\n",
        "\n",
        "epochs = range(1, len(acc) + 1)\n",
        "\n",
        "# \"bo\" is for \"blue dot\"\n",
        "plt.plot(epochs, loss, 'bo', label='Training loss')\n",
        "# b is for \"solid blue line\"\n",
        "plt.plot(epochs, val_loss, 'b', label='Validation loss')\n",
        "plt.title('Training and validation loss')\n",
        "\n",
        "plt.xlabel('Epochs')\n",
        "plt.ylabel('Loss')\n",
        "plt.legend()\n",
        "\n",
        "plt.show()"
      ],
      "execution_count": 145,
      "outputs": [
        {
          "output_type": "display_data",
          "data": {
            "image/png": "[encoded data removed]",
            "text/plain": [
              "<Figure size 432x288 with 1 Axes>"
            ]
          },
          "metadata": {
            "tags": [],
            "needs_background": "light"
          }
        }
      ]
    },
    {
      "cell_type": "code",
      "metadata": {
        "colab": {
          "base_uri": "https://localhost:8080/",
          "height": 295
        },
        "id": "A9WfSxv05pWj",
        "outputId": "7f291c60-3b4b-4efb-fb12-48f71374377b"
      },
      "source": [
        "plt.clf()   # clear figure\n",
        "acc_values = history_dict['accuracy']\n",
        "# val_acc_values = history_dict['val_acc']\n",
        "\n",
        "plt.plot(epochs, acc, 'bo', label='Training acc')\n",
        "plt.plot(epochs, val_acc, 'b', label='Validation acc')\n",
        "plt.title('Training and validation accuracy')\n",
        "\n",
        "plt.xlabel('Epochs')\n",
        "plt.ylabel('Accuracy')\n",
        "plt.legend()\n",
        "\n",
        "plt.show()"
      ],
      "execution_count": 146,
      "outputs": [
        {
          "output_type": "display_data",
          "data": {
            "image/png": "[encoded data removed]",
            "text/plain": [
              "<Figure size 432x288 with 1 Axes>"
            ]
          },
          "metadata": {
            "tags": [],
            "needs_background": "light"
          }
        }
      ]
    },
    {
      "cell_type": "markdown",
      "metadata": {
        "id": "tMZDTPus6EaK"
      },
      "source": [
        "# **Experiment 5 - Random Forest**"
      ]
    },
    {
      "cell_type": "code",
      "metadata": {
        "colab": {
          "base_uri": "https://localhost:8080/"
        },
        "id": "dazhyD5x5pcz",
        "outputId": "130c3f11-2007-4f64-c959-af4b4c51a425"
      },
      "source": [
        "from sklearn.ensemble import RandomForestClassifier\n",
        "\n",
        "rnd_clf = RandomForestClassifier(n_estimators=100, random_state=42)\n",
        "rnd_clf.fit(train_images,train_labels)"
      ],
      "execution_count": 147,
      "outputs": [
        {
          "output_type": "execute_result",
          "data": {
            "text/plain": [
              "RandomForestClassifier(bootstrap=True, ccp_alpha=0.0, class_weight=None,\n",
              "                       criterion='gini', max_depth=None, max_features='auto',\n",
              "                       max_leaf_nodes=None, max_samples=None,\n",
              "                       min_impurity_decrease=0.0, min_impurity_split=None,\n",
              "                       min_samples_leaf=1, min_samples_split=2,\n",
              "                       min_weight_fraction_leaf=0.0, n_estimators=100,\n",
              "                       n_jobs=None, oob_score=False, random_state=42, verbose=0,\n",
              "                       warm_start=False)"
            ]
          },
          "metadata": {
            "tags": []
          },
          "execution_count": 147
        }
      ]
    },
    {
      "cell_type": "code",
      "metadata": {
        "colab": {
          "base_uri": "https://localhost:8080/",
          "height": 258
        },
        "id": "un6-srnM5pg5",
        "outputId": "ab7a75a4-1d8d-4ff3-b7df-f5e2974f37c9"
      },
      "source": [
        "# https://github.com/ageron/handson-ml2/blob/master/07_ensemble_learning_and_random_forests.ipynb\n",
        "import matplotlib as mpl\n",
        "import matplotlib.pyplot as plt\n",
        "\n",
        "def plot_digit(data):\n",
        "    image = data.reshape(28, 28)\n",
        "    plt.imshow(image, cmap = mpl.cm.hot,\n",
        "               interpolation=\"nearest\")\n",
        "    plt.axis(\"off\")\n",
        "\n",
        "plot_digit(rnd_clf.feature_importances_)\n",
        "\n",
        "cbar = plt.colorbar(ticks=[rnd_clf.feature_importances_.min(), rnd_clf.feature_importances_.max()])\n",
        "cbar.ax.set_yticklabels(['Not important', 'Very important'])\n",
        "\n",
        "# plt.savefig(\"mnist_feature_importance_plot\")\n",
        "plt.show()"
      ],
      "execution_count": 148,
      "outputs": [
        {
          "output_type": "display_data",
          "data": {
            "image/png": "[encoded data removed]",
            "text/plain": [
              "<Figure size 432x288 with 2 Axes>"
            ]
          },
          "metadata": {
            "tags": [],
            "needs_background": "light"
          }
        }
      ]
    },
    {
      "cell_type": "code",
      "metadata": {
        "colab": {
          "base_uri": "https://localhost:8080/"
        },
        "id": "qHoxxKvY5plm",
        "outputId": "6da99453-fee1-48ca-8f18-24f9a83ba204"
      },
      "source": [
        "n = 70\n",
        "imp_arr = rnd_clf.feature_importances_\n",
        "idx = (-imp_arr).argsort()[:n]          # get the indices of the 70 \"most important\" features/pixels\n",
        "len(idx)"
      ],
      "execution_count": 149,
      "outputs": [
        {
          "output_type": "execute_result",
          "data": {
            "text/plain": [
              "70"
            ]
          },
          "metadata": {
            "tags": []
          },
          "execution_count": 149
        }
      ]
    },
    {
      "cell_type": "code",
      "metadata": {
        "colab": {
          "base_uri": "https://localhost:8080/"
        },
        "id": "DPAmED248Q_3",
        "outputId": "8e991d25-60da-4555-c2b2-41f9d5b7c163"
      },
      "source": [
        "train_images_sm = train_images[:,idx]\n",
        "val_images_sm = val_images[:,idx]\n",
        "test_images_sm = test_images[:,idx]\n",
        "train_images_sm.shape, val_images.shape, test_images_sm.shape"
      ],
      "execution_count": 150,
      "outputs": [
        {
          "output_type": "execute_result",
          "data": {
            "text/plain": [
              "((55000, 70), (5000, 784), (10000, 70))"
            ]
          },
          "metadata": {
            "tags": []
          },
          "execution_count": 150
        }
      ]
    },
    {
      "cell_type": "code",
      "metadata": {
        "id": "eflxqJRW8RQy"
      },
      "source": [
        "def pair(n,size):\n",
        "    x = n//size \n",
        "    y = n%size\n",
        "    return x,y"
      ],
      "execution_count": 151,
      "outputs": []
    },
    {
      "cell_type": "code",
      "metadata": {
        "colab": {
          "base_uri": "https://localhost:8080/",
          "height": 282
        },
        "id": "Vv3SlDra8RYw",
        "outputId": "fe199fd6-9fc3-4209-8abb-6527b89d6eea"
      },
      "source": [
        "plt.imshow(train_images[1].reshape(28,28),cmap='binary')\n",
        "x, y = np.array([pair(k,28) for k in idx]).T\n",
        "plt.scatter(x,y,color='red',s=20)"
      ],
      "execution_count": 152,
      "outputs": [
        {
          "output_type": "execute_result",
          "data": {
            "text/plain": [
              "<matplotlib.collections.PathCollection at 0x7f14bbe0a190>"
            ]
          },
          "metadata": {
            "tags": []
          },
          "execution_count": 152
        },
        {
          "output_type": "display_data",
          "data": {
            "image/png": "[encoded data removed]",
            "text/plain": [
              "<Figure size 432x288 with 1 Axes>"
            ]
          },
          "metadata": {
            "tags": [],
            "needs_background": "light"
          }
        }
      ]
    },
    {
      "cell_type": "code",
      "metadata": {
        "id": "5gYpVgXR8RgQ"
      },
      "source": [
        "model = models.Sequential()\n",
        "model.add(layers.Dense(128, activation='relu', input_shape=(70,)))\n",
        "model.add(layers.Dense(10, activation='softmax'))  \n",
        "\n",
        "# For use with non-categorical labels\n",
        "model.compile(optimizer='rmsprop',\n",
        "                loss='sparse_categorical_crossentropy',\n",
        "                metrics=['accuracy'])\n"
      ],
      "execution_count": 154,
      "outputs": []
    },
    {
      "cell_type": "code",
      "metadata": {
        "colab": {
          "base_uri": "https://localhost:8080/"
        },
        "id": "M_QVpz8K88ju",
        "outputId": "1c4339ac-d71c-4223-edcf-f982fb9f70ea"
      },
      "source": [
        "start_time = datetime.now()\n",
        "history = model.fit(train_images_sm, train_labels, epochs=30,\n",
        "                    validation_data=(val_images_sm, val_labels))\n",
        "end_time = datetime.now()"
      ],
      "execution_count": 156,
      "outputs": [
        {
          "output_type": "stream",
          "text": [
            "Train on 55000 samples, validate on 5000 samples\n",
            "Epoch 1/30\n",
            "54624/55000 [============================>.] - ETA: 0s - loss: 0.6282 - accuracy: 0.8134"
          ],
          "name": "stdout"
        },
        {
          "output_type": "stream",
          "text": [
            "/usr/local/lib/python3.7/dist-packages/tensorflow/python/keras/engine/training.py:2426: UserWarning: `Model.state_updates` will be removed in a future version. This property should not be used in TensorFlow 2.0, as `updates` are applied automatically.\n",
            "  warnings.warn('`Model.state_updates` will be removed in a future version. '\n"
          ],
          "name": "stderr"
        },
        {
          "output_type": "stream",
          "text": [
            "55000/55000 [==============================] - 3s 48us/sample - loss: 0.6273 - accuracy: 0.8138 - val_loss: 0.4458 - val_accuracy: 0.8738\n",
            "Epoch 2/30\n",
            "55000/55000 [==============================] - 2s 44us/sample - loss: 0.4205 - accuracy: 0.8729 - val_loss: 0.3710 - val_accuracy: 0.8926\n",
            "Epoch 3/30\n",
            "55000/55000 [==============================] - 2s 43us/sample - loss: 0.3518 - accuracy: 0.8950 - val_loss: 0.3242 - val_accuracy: 0.9066\n",
            "Epoch 4/30\n",
            "55000/55000 [==============================] - 3s 48us/sample - loss: 0.3107 - accuracy: 0.9069 - val_loss: 0.3014 - val_accuracy: 0.9120\n",
            "Epoch 5/30\n",
            "55000/55000 [==============================] - 3s 48us/sample - loss: 0.2832 - accuracy: 0.9144 - val_loss: 0.2829 - val_accuracy: 0.9176\n",
            "Epoch 6/30\n",
            "55000/55000 [==============================] - 3s 46us/sample - loss: 0.2639 - accuracy: 0.9198 - val_loss: 0.2732 - val_accuracy: 0.9200\n",
            "Epoch 7/30\n",
            "55000/55000 [==============================] - 3s 47us/sample - loss: 0.2498 - accuracy: 0.9244 - val_loss: 0.2583 - val_accuracy: 0.9232\n",
            "Epoch 8/30\n",
            "55000/55000 [==============================] - 3s 46us/sample - loss: 0.2381 - accuracy: 0.9274 - val_loss: 0.2501 - val_accuracy: 0.9264\n",
            "Epoch 9/30\n",
            "55000/55000 [==============================] - 2s 43us/sample - loss: 0.2289 - accuracy: 0.9303 - val_loss: 0.2438 - val_accuracy: 0.9286\n",
            "Epoch 10/30\n",
            "55000/55000 [==============================] - 2s 45us/sample - loss: 0.2224 - accuracy: 0.9328 - val_loss: 0.2376 - val_accuracy: 0.9288\n",
            "Epoch 11/30\n",
            "55000/55000 [==============================] - 2s 45us/sample - loss: 0.2154 - accuracy: 0.9351 - val_loss: 0.2302 - val_accuracy: 0.9298\n",
            "Epoch 12/30\n",
            "55000/55000 [==============================] - 3s 47us/sample - loss: 0.2109 - accuracy: 0.9366 - val_loss: 0.2435 - val_accuracy: 0.9274\n",
            "Epoch 13/30\n",
            "55000/55000 [==============================] - 2s 44us/sample - loss: 0.2061 - accuracy: 0.9379 - val_loss: 0.2330 - val_accuracy: 0.9298\n",
            "Epoch 14/30\n",
            "55000/55000 [==============================] - 3s 48us/sample - loss: 0.2026 - accuracy: 0.9385 - val_loss: 0.2293 - val_accuracy: 0.9308\n",
            "Epoch 15/30\n",
            "55000/55000 [==============================] - 2s 45us/sample - loss: 0.1979 - accuracy: 0.9409 - val_loss: 0.2287 - val_accuracy: 0.9316\n",
            "Epoch 16/30\n",
            "55000/55000 [==============================] - 3s 48us/sample - loss: 0.1957 - accuracy: 0.9413 - val_loss: 0.2244 - val_accuracy: 0.9328\n",
            "Epoch 17/30\n",
            "55000/55000 [==============================] - 2s 45us/sample - loss: 0.1919 - accuracy: 0.9424 - val_loss: 0.2293 - val_accuracy: 0.9320\n",
            "Epoch 18/30\n",
            "55000/55000 [==============================] - 2s 44us/sample - loss: 0.1882 - accuracy: 0.9426 - val_loss: 0.2346 - val_accuracy: 0.9324\n",
            "Epoch 19/30\n",
            "55000/55000 [==============================] - 2s 43us/sample - loss: 0.1868 - accuracy: 0.9436 - val_loss: 0.2332 - val_accuracy: 0.9318\n",
            "Epoch 20/30\n",
            "55000/55000 [==============================] - 2s 44us/sample - loss: 0.1834 - accuracy: 0.9449 - val_loss: 0.2217 - val_accuracy: 0.9356\n",
            "Epoch 21/30\n",
            "55000/55000 [==============================] - 3s 46us/sample - loss: 0.1819 - accuracy: 0.9454 - val_loss: 0.2277 - val_accuracy: 0.9332\n",
            "Epoch 22/30\n",
            "55000/55000 [==============================] - 3s 47us/sample - loss: 0.1796 - accuracy: 0.9457 - val_loss: 0.2157 - val_accuracy: 0.9392\n",
            "Epoch 23/30\n",
            "55000/55000 [==============================] - 3s 46us/sample - loss: 0.1776 - accuracy: 0.9472 - val_loss: 0.2323 - val_accuracy: 0.9334\n",
            "Epoch 24/30\n",
            "55000/55000 [==============================] - 2s 45us/sample - loss: 0.1762 - accuracy: 0.9476 - val_loss: 0.2278 - val_accuracy: 0.9328\n",
            "Epoch 25/30\n",
            "55000/55000 [==============================] - 3s 46us/sample - loss: 0.1745 - accuracy: 0.9483 - val_loss: 0.2337 - val_accuracy: 0.9318\n",
            "Epoch 26/30\n",
            "55000/55000 [==============================] - 2s 45us/sample - loss: 0.1731 - accuracy: 0.9489 - val_loss: 0.2296 - val_accuracy: 0.9356\n",
            "Epoch 27/30\n",
            "55000/55000 [==============================] - 3s 48us/sample - loss: 0.1724 - accuracy: 0.9490 - val_loss: 0.2278 - val_accuracy: 0.9348\n",
            "Epoch 28/30\n",
            "55000/55000 [==============================] - 3s 47us/sample - loss: 0.1713 - accuracy: 0.9499 - val_loss: 0.2366 - val_accuracy: 0.9328\n",
            "Epoch 29/30\n",
            "55000/55000 [==============================] - 2s 45us/sample - loss: 0.1691 - accuracy: 0.9504 - val_loss: 0.2333 - val_accuracy: 0.9384\n",
            "Epoch 30/30\n",
            "55000/55000 [==============================] - 3s 46us/sample - loss: 0.1680 - accuracy: 0.9499 - val_loss: 0.2355 - val_accuracy: 0.9350\n"
          ],
          "name": "stdout"
        }
      ]
    },
    {
      "cell_type": "code",
      "metadata": {
        "colab": {
          "base_uri": "https://localhost:8080/"
        },
        "id": "UGoZnNWt88jv",
        "outputId": "4a487626-302e-4b7d-f21b-186203f82e7b"
      },
      "source": [
        "train_time = end_time - start_time\n",
        "print(f'training time: {train_time}')"
      ],
      "execution_count": 157,
      "outputs": [
        {
          "output_type": "stream",
          "text": [
            "training time: 0:01:16.140374\n"
          ],
          "name": "stdout"
        }
      ]
    },
    {
      "cell_type": "code",
      "metadata": {
        "colab": {
          "base_uri": "https://localhost:8080/"
        },
        "id": "NPTgky818Rn9",
        "outputId": "008e2582-91fe-4845-930f-cd38041e85c0"
      },
      "source": [
        "hist_dict = history.history\n",
        "hist_dict.keys()"
      ],
      "execution_count": 158,
      "outputs": [
        {
          "output_type": "execute_result",
          "data": {
            "text/plain": [
              "dict_keys(['loss', 'accuracy', 'val_loss', 'val_accuracy'])"
            ]
          },
          "metadata": {
            "tags": []
          },
          "execution_count": 158
        }
      ]
    },
    {
      "cell_type": "code",
      "metadata": {
        "colab": {
          "base_uri": "https://localhost:8080/"
        },
        "id": "qINqWKmX9ON0",
        "outputId": "e22bd83e-94a5-4125-e591-1f4ba9efd22b"
      },
      "source": [
        "print(f'''acc: {hist_dict['accuracy'][-1]:.4}, val acc: {hist_dict['val_accuracy'][-1]:.4},\n",
        "loss: {hist_dict['loss'][-1]:.4}, val loss: {hist_dict['val_loss'][-1]:.4}''')"
      ],
      "execution_count": 159,
      "outputs": [
        {
          "output_type": "stream",
          "text": [
            "acc: 0.9499, val acc: 0.935,\n",
            "loss: 0.168, val loss: 0.2355\n"
          ],
          "name": "stdout"
        }
      ]
    },
    {
      "cell_type": "code",
      "metadata": {
        "id": "4oojLXWo9OWS"
      },
      "source": [
        "test_loss, test_acc = model.evaluate(test_images_sm, test_labels)"
      ],
      "execution_count": 160,
      "outputs": []
    },
    {
      "cell_type": "code",
      "metadata": {
        "colab": {
          "base_uri": "https://localhost:8080/"
        },
        "id": "msVj1PkK9Ogf",
        "outputId": "d73be1a3-d4de-4898-a922-094984d139bf"
      },
      "source": [
        "print(f'test acc: {test_acc}, test loss: {test_loss}')"
      ],
      "execution_count": 161,
      "outputs": [
        {
          "output_type": "stream",
          "text": [
            "test acc: 0.9363999962806702, test loss: 0.23351904299650342\n"
          ],
          "name": "stdout"
        }
      ]
    },
    {
      "cell_type": "code",
      "metadata": {
        "colab": {
          "base_uri": "https://localhost:8080/"
        },
        "id": "2ini1nFS9fOd",
        "outputId": "423fd2fe-b562-4106-ec35-bc88e8f6f484"
      },
      "source": [
        "history_dict = history.history\n",
        "history_dict.keys()"
      ],
      "execution_count": 162,
      "outputs": [
        {
          "output_type": "execute_result",
          "data": {
            "text/plain": [
              "dict_keys(['loss', 'accuracy', 'val_loss', 'val_accuracy'])"
            ]
          },
          "metadata": {
            "tags": []
          },
          "execution_count": 162
        }
      ]
    },
    {
      "cell_type": "code",
      "metadata": {
        "colab": {
          "base_uri": "https://localhost:8080/",
          "height": 295
        },
        "id": "eUAczjPb9fU5",
        "outputId": "74016bc8-b7c2-4542-9687-8dd9d5606eb3"
      },
      "source": [
        "acc = history.history['accuracy']\n",
        "val_acc = history.history['val_accuracy']\n",
        "loss = history.history['loss']\n",
        "val_loss = history.history['val_loss']\n",
        "\n",
        "epochs = range(1, len(acc) + 1)\n",
        "\n",
        "# \"bo\" is for \"blue dot\"\n",
        "plt.plot(epochs, loss, 'bo', label='Training loss')\n",
        "# b is for \"solid blue line\"\n",
        "plt.plot(epochs, val_loss, 'b', label='Validation loss')\n",
        "plt.title('Training and validation loss')\n",
        "\n",
        "plt.xlabel('Epochs')\n",
        "plt.ylabel('Loss')\n",
        "plt.legend()\n",
        "\n",
        "plt.show()"
      ],
      "execution_count": 163,
      "outputs": [
        {
          "output_type": "display_data",
          "data": {
            "image/png": "[encoded data removed]",
            "text/plain": [
              "<Figure size 432x288 with 1 Axes>"
            ]
          },
          "metadata": {
            "tags": [],
            "needs_background": "light"
          }
        }
      ]
    },
    {
      "cell_type": "code",
      "metadata": {
        "colab": {
          "base_uri": "https://localhost:8080/",
          "height": 295
        },
        "id": "Rdne_f0L9fdv",
        "outputId": "22ed2293-3e7f-4d21-ac33-85355b9bed7f"
      },
      "source": [
        "plt.clf()   # clear figure\n",
        "acc_values = history_dict['accuracy']\n",
        "# val_acc_values = history_dict['val_acc']\n",
        "\n",
        "plt.plot(epochs, acc, 'bo', label='Training acc')\n",
        "plt.plot(epochs, val_acc, 'b', label='Validation acc')\n",
        "plt.title('Training and validation accuracy')\n",
        "\n",
        "plt.xlabel('Epochs')\n",
        "plt.ylabel('Accuracy')\n",
        "plt.legend()\n",
        "\n",
        "plt.show()"
      ],
      "execution_count": 164,
      "outputs": [
        {
          "output_type": "display_data",
          "data": {
            "image/png": "[encoded data removed]",
            "text/plain": [
              "<Figure size 432x288 with 1 Axes>"
            ]
          },
          "metadata": {
            "tags": [],
            "needs_background": "light"
          }
        }
      ]
    },
    {
      "cell_type": "markdown",
      "metadata": {
        "id": "SgQwl-PT_ymv"
      },
      "source": [
        "# **Experiment 6 - tanh activation**"
      ]
    },
    {
      "cell_type": "code",
      "metadata": {
        "id": "1wSprtyA_9Uj"
      },
      "source": [
        "model = models.Sequential()\n",
        "model.add(layers.Dense(128, activation='tanh', input_shape=(28 * 28,)))\n",
        "model.add(layers.Dense(10, activation='softmax'))"
      ],
      "execution_count": 165,
      "outputs": []
    },
    {
      "cell_type": "code",
      "metadata": {
        "colab": {
          "base_uri": "https://localhost:8080/",
          "height": 312
        },
        "id": "NltPfPX4_9Uj",
        "outputId": "78d54202-d0ab-4ecc-ee08-1527f90c9d7c"
      },
      "source": [
        "keras.utils.plot_model(model, \"mnist_model_2hnode.png\", show_shapes=True)"
      ],
      "execution_count": 166,
      "outputs": [
        {
          "output_type": "execute_result",
          "data": {
            "image/png": "[encoded data removed]",
            "text/plain": [
              "<IPython.core.display.Image object>"
            ]
          },
          "metadata": {
            "tags": []
          },
          "execution_count": 166
        }
      ]
    },
    {
      "cell_type": "code",
      "metadata": {
        "id": "CKXKc644_9Uk"
      },
      "source": [
        "model.compile(optimizer='rmsprop',\n",
        "              loss='sparse_categorical_crossentropy',              \n",
        "              metrics=['accuracy'])"
      ],
      "execution_count": 167,
      "outputs": []
    },
    {
      "cell_type": "code",
      "metadata": {
        "colab": {
          "base_uri": "https://localhost:8080/"
        },
        "id": "iEk9jdSw_9Ul",
        "outputId": "3dfdf949-a89b-49a8-bffa-fd4070893485"
      },
      "source": [
        "start_time = datetime.now()\n",
        "history = model.fit(train_images, train_labels, epochs=30,\n",
        "                    validation_data=(val_images, val_labels))\n",
        "end_time = datetime.now()\n"
      ],
      "execution_count": 168,
      "outputs": [
        {
          "output_type": "stream",
          "text": [
            "Train on 55000 samples, validate on 5000 samples\n",
            "Epoch 1/30\n",
            "54624/55000 [============================>.] - ETA: 0s - loss: 0.2958 - accuracy: 0.9144"
          ],
          "name": "stdout"
        },
        {
          "output_type": "stream",
          "text": [
            "/usr/local/lib/python3.7/dist-packages/tensorflow/python/keras/engine/training.py:2426: UserWarning: `Model.state_updates` will be removed in a future version. This property should not be used in TensorFlow 2.0, as `updates` are applied automatically.\n",
            "  warnings.warn('`Model.state_updates` will be removed in a future version. '\n"
          ],
          "name": "stderr"
        },
        {
          "output_type": "stream",
          "text": [
            "55000/55000 [==============================] - 6s 109us/sample - loss: 0.2949 - accuracy: 0.9147 - val_loss: 0.1606 - val_accuracy: 0.9528\n",
            "Epoch 2/30\n",
            "55000/55000 [==============================] - 6s 102us/sample - loss: 0.1478 - accuracy: 0.9562 - val_loss: 0.1133 - val_accuracy: 0.9662\n",
            "Epoch 3/30\n",
            "55000/55000 [==============================] - 6s 107us/sample - loss: 0.1053 - accuracy: 0.9686 - val_loss: 0.1011 - val_accuracy: 0.9692\n",
            "Epoch 4/30\n",
            "55000/55000 [==============================] - 6s 105us/sample - loss: 0.0834 - accuracy: 0.9758 - val_loss: 0.0870 - val_accuracy: 0.9738\n",
            "Epoch 5/30\n",
            "55000/55000 [==============================] - 6s 110us/sample - loss: 0.0690 - accuracy: 0.9793 - val_loss: 0.0868 - val_accuracy: 0.9734\n",
            "Epoch 6/30\n",
            "55000/55000 [==============================] - 6s 111us/sample - loss: 0.0586 - accuracy: 0.9833 - val_loss: 0.0854 - val_accuracy: 0.9730\n",
            "Epoch 7/30\n",
            "55000/55000 [==============================] - 6s 110us/sample - loss: 0.0503 - accuracy: 0.9854 - val_loss: 0.0817 - val_accuracy: 0.9758\n",
            "Epoch 8/30\n",
            "55000/55000 [==============================] - 6s 109us/sample - loss: 0.0434 - accuracy: 0.9874 - val_loss: 0.0792 - val_accuracy: 0.9758\n",
            "Epoch 9/30\n",
            "55000/55000 [==============================] - 6s 101us/sample - loss: 0.0385 - accuracy: 0.9890 - val_loss: 0.0776 - val_accuracy: 0.9776\n",
            "Epoch 10/30\n",
            "55000/55000 [==============================] - 6s 104us/sample - loss: 0.0338 - accuracy: 0.9908 - val_loss: 0.0795 - val_accuracy: 0.9780\n",
            "Epoch 11/30\n",
            "55000/55000 [==============================] - 6s 102us/sample - loss: 0.0296 - accuracy: 0.9919 - val_loss: 0.0762 - val_accuracy: 0.9782\n",
            "Epoch 12/30\n",
            "55000/55000 [==============================] - 6s 103us/sample - loss: 0.0260 - accuracy: 0.9930 - val_loss: 0.0817 - val_accuracy: 0.9758\n",
            "Epoch 13/30\n",
            "55000/55000 [==============================] - 6s 103us/sample - loss: 0.0229 - accuracy: 0.9938 - val_loss: 0.0802 - val_accuracy: 0.9774\n",
            "Epoch 14/30\n",
            "55000/55000 [==============================] - 6s 102us/sample - loss: 0.0201 - accuracy: 0.9948 - val_loss: 0.0828 - val_accuracy: 0.9758\n",
            "Epoch 15/30\n",
            "55000/55000 [==============================] - 6s 101us/sample - loss: 0.0178 - accuracy: 0.9955 - val_loss: 0.0825 - val_accuracy: 0.9776\n",
            "Epoch 16/30\n",
            "55000/55000 [==============================] - 6s 103us/sample - loss: 0.0160 - accuracy: 0.9959 - val_loss: 0.0782 - val_accuracy: 0.9774\n",
            "Epoch 17/30\n",
            "55000/55000 [==============================] - 6s 101us/sample - loss: 0.0142 - accuracy: 0.9966 - val_loss: 0.0879 - val_accuracy: 0.9770\n",
            "Epoch 18/30\n",
            "55000/55000 [==============================] - 6s 100us/sample - loss: 0.0126 - accuracy: 0.9970 - val_loss: 0.0836 - val_accuracy: 0.9782\n",
            "Epoch 19/30\n",
            "55000/55000 [==============================] - 6s 104us/sample - loss: 0.0111 - accuracy: 0.9972 - val_loss: 0.0921 - val_accuracy: 0.9772\n",
            "Epoch 20/30\n",
            "55000/55000 [==============================] - 6s 101us/sample - loss: 0.0098 - accuracy: 0.9978 - val_loss: 0.0879 - val_accuracy: 0.9774\n",
            "Epoch 21/30\n",
            "55000/55000 [==============================] - 6s 102us/sample - loss: 0.0090 - accuracy: 0.9977 - val_loss: 0.0926 - val_accuracy: 0.9774\n",
            "Epoch 22/30\n",
            "55000/55000 [==============================] - 6s 103us/sample - loss: 0.0079 - accuracy: 0.9983 - val_loss: 0.0894 - val_accuracy: 0.9778\n",
            "Epoch 23/30\n",
            "55000/55000 [==============================] - 6s 106us/sample - loss: 0.0075 - accuracy: 0.9984 - val_loss: 0.0995 - val_accuracy: 0.9770\n",
            "Epoch 24/30\n",
            "55000/55000 [==============================] - 6s 105us/sample - loss: 0.0063 - accuracy: 0.9987 - val_loss: 0.0989 - val_accuracy: 0.9776\n",
            "Epoch 25/30\n",
            "55000/55000 [==============================] - 6s 108us/sample - loss: 0.0060 - accuracy: 0.9986 - val_loss: 0.0923 - val_accuracy: 0.9788\n",
            "Epoch 26/30\n",
            "55000/55000 [==============================] - 6s 111us/sample - loss: 0.0053 - accuracy: 0.9989 - val_loss: 0.0982 - val_accuracy: 0.9768\n",
            "Epoch 27/30\n",
            "55000/55000 [==============================] - 6s 103us/sample - loss: 0.0048 - accuracy: 0.9988 - val_loss: 0.0984 - val_accuracy: 0.9774\n",
            "Epoch 28/30\n",
            "55000/55000 [==============================] - 5s 100us/sample - loss: 0.0042 - accuracy: 0.9991 - val_loss: 0.1043 - val_accuracy: 0.9778\n",
            "Epoch 29/30\n",
            "55000/55000 [==============================] - 6s 101us/sample - loss: 0.0041 - accuracy: 0.9990 - val_loss: 0.0991 - val_accuracy: 0.9778\n",
            "Epoch 30/30\n",
            "55000/55000 [==============================] - 5s 99us/sample - loss: 0.0035 - accuracy: 0.9991 - val_loss: 0.1017 - val_accuracy: 0.9772\n"
          ],
          "name": "stdout"
        }
      ]
    },
    {
      "cell_type": "code",
      "metadata": {
        "colab": {
          "base_uri": "https://localhost:8080/"
        },
        "id": "o9RqInhA_9Um",
        "outputId": "6009b98c-4aaf-4f77-b92a-03cd79cb2607"
      },
      "source": [
        "train_time = end_time - start_time\n",
        "print(f'training time: {train_time}')"
      ],
      "execution_count": 169,
      "outputs": [
        {
          "output_type": "stream",
          "text": [
            "training time: 0:02:52.572730\n"
          ],
          "name": "stdout"
        }
      ]
    },
    {
      "cell_type": "code",
      "metadata": {
        "id": "4TZI5q6__9Um"
      },
      "source": [
        "test_loss, test_acc = model.evaluate(test_images, test_labels)"
      ],
      "execution_count": 170,
      "outputs": []
    },
    {
      "cell_type": "code",
      "metadata": {
        "colab": {
          "base_uri": "https://localhost:8080/"
        },
        "id": "Lwae3edk_9Um",
        "outputId": "b798a826-e4a4-4111-e9bf-0291cc2ec183"
      },
      "source": [
        "print(f'test acc: {test_acc}, test loss: {test_loss}')"
      ],
      "execution_count": 171,
      "outputs": [
        {
          "output_type": "stream",
          "text": [
            "test acc: 0.9761000275611877, test loss: 0.10982568396519404\n"
          ],
          "name": "stdout"
        }
      ]
    },
    {
      "cell_type": "code",
      "metadata": {
        "id": "87253wDf_9Un"
      },
      "source": [
        "history_dict = history.history"
      ],
      "execution_count": 172,
      "outputs": []
    },
    {
      "cell_type": "code",
      "metadata": {
        "colab": {
          "base_uri": "https://localhost:8080/",
          "height": 295
        },
        "id": "Hs3bEm2V_9Uo",
        "outputId": "068abc99-b144-4399-a4f4-fe6db38d83c1"
      },
      "source": [
        "acc = history.history['accuracy']\n",
        "val_acc = history.history['val_accuracy']\n",
        "loss = history.history['loss']\n",
        "val_loss = history.history['val_loss']\n",
        "\n",
        "epochs = range(1, len(acc) + 1)\n",
        "\n",
        "# \"bo\" is for \"blue dot\"\n",
        "plt.plot(epochs, loss, 'bo', label='Training loss')\n",
        "# b is for \"solid blue line\"\n",
        "plt.plot(epochs, val_loss, 'b', label='Validation loss')\n",
        "plt.title('Training and validation loss')\n",
        "\n",
        "plt.xlabel('Epochs')\n",
        "plt.ylabel('Loss')\n",
        "plt.legend()\n",
        "\n",
        "plt.show()"
      ],
      "execution_count": 173,
      "outputs": [
        {
          "output_type": "display_data",
          "data": {
            "image/png": "[encoded data removed]",
            "text/plain": [
              "<Figure size 432x288 with 1 Axes>"
            ]
          },
          "metadata": {
            "tags": [],
            "needs_background": "light"
          }
        }
      ]
    },
    {
      "cell_type": "code",
      "metadata": {
        "colab": {
          "base_uri": "https://localhost:8080/",
          "height": 295
        },
        "id": "jUWFO1B0_9Up",
        "outputId": "f8d79f2b-570c-4397-e76b-41c4151a0c11"
      },
      "source": [
        "plt.clf()   # clear figure\n",
        "acc_values = history_dict['accuracy']\n",
        "# val_acc_values = history_dict['val_acc']\n",
        "\n",
        "plt.plot(epochs, acc, 'bo', label='Training acc')\n",
        "plt.plot(epochs, val_acc, 'b', label='Validation acc')\n",
        "plt.title('Training and validation accuracy')\n",
        "\n",
        "plt.xlabel('Epochs')\n",
        "plt.ylabel('Accuracy')\n",
        "plt.legend()\n",
        "\n",
        "plt.show()"
      ],
      "execution_count": 174,
      "outputs": [
        {
          "output_type": "display_data",
          "data": {
            "image/png": "[encoded data removed]",
            "text/plain": [
              "<Figure size 432x288 with 1 Axes>"
            ]
          },
          "metadata": {
            "tags": [],
            "needs_background": "light"
          }
        }
      ]
    },
    {
      "cell_type": "code",
      "metadata": {
        "colab": {
          "base_uri": "https://localhost:8080/"
        },
        "id": "XFliJaLs_9Uq",
        "outputId": "2f5d159b-6a7d-4b13-e16b-8d4309584c6b"
      },
      "source": [
        "# Get the predicted classes:\n",
        "pred_classes = np.argmax(model.predict(train_images), axis=-1)"
      ],
      "execution_count": 175,
      "outputs": [
        {
          "output_type": "stream",
          "text": [
            "/usr/local/lib/python3.7/dist-packages/tensorflow/python/keras/engine/training.py:2426: UserWarning: `Model.state_updates` will be removed in a future version. This property should not be used in TensorFlow 2.0, as `updates` are applied automatically.\n",
            "  warnings.warn('`Model.state_updates` will be removed in a future version. '\n"
          ],
          "name": "stderr"
        }
      ]
    },
    {
      "cell_type": "code",
      "metadata": {
        "colab": {
          "base_uri": "https://localhost:8080/"
        },
        "id": "xei8sAvc_9Uq",
        "outputId": "18859ea1-9c43-4ca6-b75c-5ad4cec1f7cd"
      },
      "source": [
        "from sklearn.metrics import confusion_matrix\n",
        "\n",
        "conf_mx = confusion_matrix(train_labels,pred_classes)\n",
        "conf_mx"
      ],
      "execution_count": 176,
      "outputs": [
        {
          "output_type": "execute_result",
          "data": {
            "text/plain": [
              "array([[5443,    0,    0,    0,    0,    0,    1,    0,    0,    0],\n",
              "       [   0, 6178,    0,    0,    0,    0,    0,    1,    0,    0],\n",
              "       [   0,    1, 5467,    0,    0,    0,    0,    2,    0,    0],\n",
              "       [   0,    0,    0, 5636,    0,    0,    0,    1,    0,    1],\n",
              "       [   0,    1,    0,    0, 5303,    0,    1,    1,    0,    1],\n",
              "       [   0,    1,    0,    1,    0, 4983,    0,    0,    2,    0],\n",
              "       [   1,    0,    0,    0,    1,    0, 5415,    0,    0,    0],\n",
              "       [   0,    9,    1,    0,    0,    0,    0, 5704,    0,    1],\n",
              "       [   0,    2,    0,    1,    0,    0,    1,    0, 5385,    0],\n",
              "       [   1,    1,    0,    0,    2,    0,    0,    2,    1, 5447]])"
            ]
          },
          "metadata": {
            "tags": []
          },
          "execution_count": 176
        }
      ]
    },
    {
      "cell_type": "code",
      "metadata": {
        "colab": {
          "base_uri": "https://localhost:8080/",
          "height": 285
        },
        "id": "LasXK5s6_9Ur",
        "outputId": "7c2b8008-7178-478d-bcd3-d2fe1ad09f6a"
      },
      "source": [
        "plt.matshow(conf_mx, cmap=plt.cm.gray)\n",
        "plt.xlabel(\"Predicted Classes\")\n",
        "plt.ylabel(\"Actual Classes\")\n",
        "plt.show()"
      ],
      "execution_count": 177,
      "outputs": [
        {
          "output_type": "display_data",
          "data": {
            "image/png": "[encoded data removed]",
            "text/plain": [
              "<Figure size 288x288 with 1 Axes>"
            ]
          },
          "metadata": {
            "tags": [],
            "needs_background": "light"
          }
        }
      ]
    },
    {
      "cell_type": "code",
      "metadata": {
        "id": "mziE2wk8_9Ur"
      },
      "source": [
        "row_sums = conf_mx.sum(axis=1, keepdims=True)\n",
        "norm_conf_mx = conf_mx / row_sums"
      ],
      "execution_count": 178,
      "outputs": []
    },
    {
      "cell_type": "code",
      "metadata": {
        "colab": {
          "base_uri": "https://localhost:8080/",
          "height": 285
        },
        "id": "rj459pND_9Us",
        "outputId": "22795289-e7ee-425a-8e15-58902cc4bddf"
      },
      "source": [
        "np.fill_diagonal(norm_conf_mx, 0)\n",
        "plt.matshow(norm_conf_mx, cmap=plt.cm.gray)\n",
        "plt.xlabel(\"Predicted Classes\")\n",
        "plt.ylabel(\"Actual Classes\")\n",
        "#plt.savefig(\"confusion_matrix_errors_plot_mnist_val\", tight_layout=False)\n",
        "plt.show()"
      ],
      "execution_count": 179,
      "outputs": [
        {
          "output_type": "display_data",
          "data": {
            "image/png": "[encoded data removed]",
            "text/plain": [
              "<Figure size 288x288 with 1 Axes>"
            ]
          },
          "metadata": {
            "tags": [],
            "needs_background": "light"
          }
        }
      ]
    },
    {
      "cell_type": "markdown",
      "metadata": {
        "id": "uKrmRVMpBK6A"
      },
      "source": [
        "# **Experiment 7 - Adam optimization**"
      ]
    },
    {
      "cell_type": "code",
      "metadata": {
        "id": "IW5oeiv3BapF"
      },
      "source": [
        "model = models.Sequential()\n",
        "model.add(layers.Dense(128, activation='relu', input_shape=(28 * 28,)))\n",
        "model.add(layers.Dense(10, activation='softmax'))"
      ],
      "execution_count": 180,
      "outputs": []
    },
    {
      "cell_type": "code",
      "metadata": {
        "colab": {
          "base_uri": "https://localhost:8080/",
          "height": 312
        },
        "id": "v4PClLW-BapG",
        "outputId": "6aca19fb-0e49-4f86-cf3f-b9a069486024"
      },
      "source": [
        "keras.utils.plot_model(model, \"mnist_model_2hnode.png\", show_shapes=True)"
      ],
      "execution_count": 181,
      "outputs": [
        {
          "output_type": "execute_result",
          "data": {
            "image/png": "[encoded data removed]",
            "text/plain": [
              "<IPython.core.display.Image object>"
            ]
          },
          "metadata": {
            "tags": []
          },
          "execution_count": 181
        }
      ]
    },
    {
      "cell_type": "code",
      "metadata": {
        "id": "1SRdz6ziBapH"
      },
      "source": [
        "model.compile(optimizer='adam',\n",
        "              loss='sparse_categorical_crossentropy',              \n",
        "              metrics=['accuracy'])"
      ],
      "execution_count": 182,
      "outputs": []
    },
    {
      "cell_type": "code",
      "metadata": {
        "colab": {
          "base_uri": "https://localhost:8080/"
        },
        "id": "yn2lJuvyBapH",
        "outputId": "666cc9b4-55f1-40c3-c8f1-0522c11bf379"
      },
      "source": [
        "start_time = datetime.now()\n",
        "history = model.fit(train_images, train_labels, epochs=30,\n",
        "                    validation_data=(val_images, val_labels))\n",
        "end_time = datetime.now()\n"
      ],
      "execution_count": 183,
      "outputs": [
        {
          "output_type": "stream",
          "text": [
            "Train on 55000 samples, validate on 5000 samples\n",
            "Epoch 1/30\n",
            "55000/55000 [==============================] - ETA: 0s - loss: 0.2706 - accuracy: 0.9222"
          ],
          "name": "stdout"
        },
        {
          "output_type": "stream",
          "text": [
            "/usr/local/lib/python3.7/dist-packages/tensorflow/python/keras/engine/training.py:2426: UserWarning: `Model.state_updates` will be removed in a future version. This property should not be used in TensorFlow 2.0, as `updates` are applied automatically.\n",
            "  warnings.warn('`Model.state_updates` will be removed in a future version. '\n"
          ],
          "name": "stderr"
        },
        {
          "output_type": "stream",
          "text": [
            "55000/55000 [==============================] - 5s 85us/sample - loss: 0.2706 - accuracy: 0.9222 - val_loss: 0.1424 - val_accuracy: 0.9608\n",
            "Epoch 2/30\n",
            "55000/55000 [==============================] - 4s 80us/sample - loss: 0.1191 - accuracy: 0.9657 - val_loss: 0.1024 - val_accuracy: 0.9722\n",
            "Epoch 3/30\n",
            "55000/55000 [==============================] - 4s 79us/sample - loss: 0.0832 - accuracy: 0.9753 - val_loss: 0.0885 - val_accuracy: 0.9718\n",
            "Epoch 4/30\n",
            "55000/55000 [==============================] - 4s 77us/sample - loss: 0.0620 - accuracy: 0.9816 - val_loss: 0.0793 - val_accuracy: 0.9758\n",
            "Epoch 5/30\n",
            "55000/55000 [==============================] - 4s 79us/sample - loss: 0.0466 - accuracy: 0.9861 - val_loss: 0.0757 - val_accuracy: 0.9760\n",
            "Epoch 6/30\n",
            "55000/55000 [==============================] - 4s 76us/sample - loss: 0.0381 - accuracy: 0.9884 - val_loss: 0.0693 - val_accuracy: 0.9800\n",
            "Epoch 7/30\n",
            "55000/55000 [==============================] - 4s 76us/sample - loss: 0.0303 - accuracy: 0.9906 - val_loss: 0.0748 - val_accuracy: 0.9778\n",
            "Epoch 8/30\n",
            "55000/55000 [==============================] - 4s 79us/sample - loss: 0.0232 - accuracy: 0.9930 - val_loss: 0.0761 - val_accuracy: 0.9796\n",
            "Epoch 9/30\n",
            "55000/55000 [==============================] - 4s 80us/sample - loss: 0.0195 - accuracy: 0.9943 - val_loss: 0.0800 - val_accuracy: 0.9766\n",
            "Epoch 10/30\n",
            "55000/55000 [==============================] - 4s 78us/sample - loss: 0.0158 - accuracy: 0.9956 - val_loss: 0.0782 - val_accuracy: 0.9802\n",
            "Epoch 11/30\n",
            "55000/55000 [==============================] - 4s 78us/sample - loss: 0.0145 - accuracy: 0.9956 - val_loss: 0.0822 - val_accuracy: 0.9758\n",
            "Epoch 12/30\n",
            "55000/55000 [==============================] - 4s 76us/sample - loss: 0.0109 - accuracy: 0.9968 - val_loss: 0.0988 - val_accuracy: 0.9764\n",
            "Epoch 13/30\n",
            "55000/55000 [==============================] - 4s 81us/sample - loss: 0.0105 - accuracy: 0.9966 - val_loss: 0.0970 - val_accuracy: 0.9758\n",
            "Epoch 14/30\n",
            "55000/55000 [==============================] - 4s 79us/sample - loss: 0.0097 - accuracy: 0.9969 - val_loss: 0.1094 - val_accuracy: 0.9722\n",
            "Epoch 15/30\n",
            "55000/55000 [==============================] - 4s 78us/sample - loss: 0.0073 - accuracy: 0.9979 - val_loss: 0.0924 - val_accuracy: 0.9792\n",
            "Epoch 16/30\n",
            "55000/55000 [==============================] - 4s 81us/sample - loss: 0.0094 - accuracy: 0.9967 - val_loss: 0.0927 - val_accuracy: 0.9780\n",
            "Epoch 17/30\n",
            "55000/55000 [==============================] - 4s 79us/sample - loss: 0.0053 - accuracy: 0.9983 - val_loss: 0.0984 - val_accuracy: 0.9778\n",
            "Epoch 18/30\n",
            "55000/55000 [==============================] - 4s 78us/sample - loss: 0.0059 - accuracy: 0.9984 - val_loss: 0.1039 - val_accuracy: 0.9770\n",
            "Epoch 19/30\n",
            "55000/55000 [==============================] - 4s 79us/sample - loss: 0.0067 - accuracy: 0.9976 - val_loss: 0.0924 - val_accuracy: 0.9836\n",
            "Epoch 20/30\n",
            "55000/55000 [==============================] - 4s 81us/sample - loss: 0.0055 - accuracy: 0.9982 - val_loss: 0.0965 - val_accuracy: 0.9794\n",
            "Epoch 21/30\n",
            "55000/55000 [==============================] - 4s 80us/sample - loss: 0.0045 - accuracy: 0.9986 - val_loss: 0.1121 - val_accuracy: 0.9786\n",
            "Epoch 22/30\n",
            "55000/55000 [==============================] - 4s 81us/sample - loss: 0.0043 - accuracy: 0.9987 - val_loss: 0.1141 - val_accuracy: 0.9754\n",
            "Epoch 23/30\n",
            "55000/55000 [==============================] - 4s 80us/sample - loss: 0.0056 - accuracy: 0.9982 - val_loss: 0.1015 - val_accuracy: 0.9808\n",
            "Epoch 24/30\n",
            "55000/55000 [==============================] - 4s 76us/sample - loss: 0.0052 - accuracy: 0.9982 - val_loss: 0.1146 - val_accuracy: 0.9772\n",
            "Epoch 25/30\n",
            "55000/55000 [==============================] - 4s 79us/sample - loss: 0.0027 - accuracy: 0.9992 - val_loss: 0.1066 - val_accuracy: 0.9792\n",
            "Epoch 26/30\n",
            "55000/55000 [==============================] - 4s 78us/sample - loss: 0.0048 - accuracy: 0.9987 - val_loss: 0.1489 - val_accuracy: 0.9734\n",
            "Epoch 27/30\n",
            "55000/55000 [==============================] - 4s 80us/sample - loss: 0.0043 - accuracy: 0.9987 - val_loss: 0.1127 - val_accuracy: 0.9788\n",
            "Epoch 28/30\n",
            "55000/55000 [==============================] - 4s 79us/sample - loss: 0.0037 - accuracy: 0.9987 - val_loss: 0.1119 - val_accuracy: 0.9804\n",
            "Epoch 29/30\n",
            "55000/55000 [==============================] - 4s 78us/sample - loss: 0.0033 - accuracy: 0.9990 - val_loss: 0.1184 - val_accuracy: 0.9798\n",
            "Epoch 30/30\n",
            "55000/55000 [==============================] - 4s 80us/sample - loss: 0.0011 - accuracy: 0.9997 - val_loss: 0.1293 - val_accuracy: 0.9766\n"
          ],
          "name": "stdout"
        }
      ]
    },
    {
      "cell_type": "code",
      "metadata": {
        "colab": {
          "base_uri": "https://localhost:8080/"
        },
        "id": "QF5sPtpxBapI",
        "outputId": "2d8ab36e-463a-4212-efb4-a308c39d2aaf"
      },
      "source": [
        "train_time = end_time - start_time\n",
        "print(f'training time: {train_time}')"
      ],
      "execution_count": 184,
      "outputs": [
        {
          "output_type": "stream",
          "text": [
            "training time: 0:02:10.928955\n"
          ],
          "name": "stdout"
        }
      ]
    },
    {
      "cell_type": "code",
      "metadata": {
        "id": "PEm8pO8EBapI"
      },
      "source": [
        "test_loss, test_acc = model.evaluate(test_images, test_labels)"
      ],
      "execution_count": 185,
      "outputs": []
    },
    {
      "cell_type": "code",
      "metadata": {
        "colab": {
          "base_uri": "https://localhost:8080/"
        },
        "id": "h5mJWx5EBapJ",
        "outputId": "808179ff-9f96-4022-fcff-54de8d61b65d"
      },
      "source": [
        "print(f'test acc: {test_acc}, test loss: {test_loss}')"
      ],
      "execution_count": 186,
      "outputs": [
        {
          "output_type": "stream",
          "text": [
            "test acc: 0.9775000214576721, test loss: 0.13762643118684342\n"
          ],
          "name": "stdout"
        }
      ]
    },
    {
      "cell_type": "code",
      "metadata": {
        "id": "u1rejpYMBapJ"
      },
      "source": [
        "history_dict = history.history"
      ],
      "execution_count": 187,
      "outputs": []
    },
    {
      "cell_type": "code",
      "metadata": {
        "colab": {
          "base_uri": "https://localhost:8080/",
          "height": 295
        },
        "id": "dFJcCGiCBapK",
        "outputId": "98d8958e-bb6e-4e6b-c479-6030d9d36a2e"
      },
      "source": [
        "acc = history.history['accuracy']\n",
        "val_acc = history.history['val_accuracy']\n",
        "loss = history.history['loss']\n",
        "val_loss = history.history['val_loss']\n",
        "\n",
        "epochs = range(1, len(acc) + 1)\n",
        "\n",
        "# \"bo\" is for \"blue dot\"\n",
        "plt.plot(epochs, loss, 'bo', label='Training loss')\n",
        "# b is for \"solid blue line\"\n",
        "plt.plot(epochs, val_loss, 'b', label='Validation loss')\n",
        "plt.title('Training and validation loss')\n",
        "\n",
        "plt.xlabel('Epochs')\n",
        "plt.ylabel('Loss')\n",
        "plt.legend()\n",
        "\n",
        "plt.show()"
      ],
      "execution_count": 188,
      "outputs": [
        {
          "output_type": "display_data",
          "data": {
            "image/png": "[encoded data removed]",
            "text/plain": [
              "<Figure size 432x288 with 1 Axes>"
            ]
          },
          "metadata": {
            "tags": [],
            "needs_background": "light"
          }
        }
      ]
    },
    {
      "cell_type": "code",
      "metadata": {
        "colab": {
          "base_uri": "https://localhost:8080/",
          "height": 295
        },
        "id": "N_9B4stwBapK",
        "outputId": "99428dba-0f52-4b92-a772-caa24e884c7e"
      },
      "source": [
        "plt.clf()   # clear figure\n",
        "acc_values = history_dict['accuracy']\n",
        "# val_acc_values = history_dict['val_acc']\n",
        "\n",
        "plt.plot(epochs, acc, 'bo', label='Training acc')\n",
        "plt.plot(epochs, val_acc, 'b', label='Validation acc')\n",
        "plt.title('Training and validation accuracy')\n",
        "\n",
        "plt.xlabel('Epochs')\n",
        "plt.ylabel('Accuracy')\n",
        "plt.legend()\n",
        "\n",
        "plt.show()"
      ],
      "execution_count": 189,
      "outputs": [
        {
          "output_type": "display_data",
          "data": {
            "image/png": "[encoded data removed]",
            "text/plain": [
              "<Figure size 432x288 with 1 Axes>"
            ]
          },
          "metadata": {
            "tags": [],
            "needs_background": "light"
          }
        }
      ]
    },
    {
      "cell_type": "code",
      "metadata": {
        "colab": {
          "base_uri": "https://localhost:8080/"
        },
        "id": "F02ZCP_ABapK",
        "outputId": "74f9120a-fd3c-40f7-8edd-de8477042a4b"
      },
      "source": [
        "# Get the predicted classes:\n",
        "pred_classes = np.argmax(model.predict(train_images), axis=-1)"
      ],
      "execution_count": 190,
      "outputs": [
        {
          "output_type": "stream",
          "text": [
            "/usr/local/lib/python3.7/dist-packages/tensorflow/python/keras/engine/training.py:2426: UserWarning: `Model.state_updates` will be removed in a future version. This property should not be used in TensorFlow 2.0, as `updates` are applied automatically.\n",
            "  warnings.warn('`Model.state_updates` will be removed in a future version. '\n"
          ],
          "name": "stderr"
        }
      ]
    },
    {
      "cell_type": "code",
      "metadata": {
        "colab": {
          "base_uri": "https://localhost:8080/"
        },
        "id": "I-7LV3wgBapL",
        "outputId": "b0340c19-6615-4c83-9dcb-037f43cb5a31"
      },
      "source": [
        "from sklearn.metrics import confusion_matrix\n",
        "\n",
        "conf_mx = confusion_matrix(train_labels,pred_classes)\n",
        "conf_mx"
      ],
      "execution_count": 191,
      "outputs": [
        {
          "output_type": "execute_result",
          "data": {
            "text/plain": [
              "array([[5442,    0,    0,    0,    0,    0,    2,    0,    0,    0],\n",
              "       [   0, 6169,    0,    0,    2,    1,    0,    7,    0,    0],\n",
              "       [   0,    0, 5470,    0,    0,    0,    0,    0,    0,    0],\n",
              "       [   0,    0,    0, 5638,    0,    0,    0,    0,    0,    0],\n",
              "       [   0,    0,    0,    0, 5306,    0,    0,    0,    0,    1],\n",
              "       [   0,    0,    0,    2,    0, 4985,    0,    0,    0,    0],\n",
              "       [   0,    0,    0,    0,    0,    0, 5417,    0,    0,    0],\n",
              "       [   0,    0,    0,    0,    0,    0,    0, 5715,    0,    0],\n",
              "       [   0,    1,    1,    2,    0,    0,    1,    1, 5383,    0],\n",
              "       [   0,    0,    0,   23,   34,    0,    0,   18,    1, 5378]])"
            ]
          },
          "metadata": {
            "tags": []
          },
          "execution_count": 191
        }
      ]
    },
    {
      "cell_type": "code",
      "metadata": {
        "colab": {
          "base_uri": "https://localhost:8080/",
          "height": 285
        },
        "id": "eUj092pkBapL",
        "outputId": "95ed00f6-20d5-4ca2-eebe-4eaa3f580314"
      },
      "source": [
        "plt.matshow(conf_mx, cmap=plt.cm.gray)\n",
        "plt.xlabel(\"Predicted Classes\")\n",
        "plt.ylabel(\"Actual Classes\")\n",
        "plt.show()"
      ],
      "execution_count": 192,
      "outputs": [
        {
          "output_type": "display_data",
          "data": {
            "image/png": "[encoded data removed]",
            "text/plain": [
              "<Figure size 288x288 with 1 Axes>"
            ]
          },
          "metadata": {
            "tags": [],
            "needs_background": "light"
          }
        }
      ]
    },
    {
      "cell_type": "code",
      "metadata": {
        "id": "O6XHENR-BapM"
      },
      "source": [
        "row_sums = conf_mx.sum(axis=1, keepdims=True)\n",
        "norm_conf_mx = conf_mx / row_sums"
      ],
      "execution_count": 193,
      "outputs": []
    },
    {
      "cell_type": "code",
      "metadata": {
        "colab": {
          "base_uri": "https://localhost:8080/",
          "height": 285
        },
        "id": "PWPCmXL_BapM",
        "outputId": "903ef0c0-a988-426f-fb49-62e1630d0e3a"
      },
      "source": [
        "np.fill_diagonal(norm_conf_mx, 0)\n",
        "plt.matshow(norm_conf_mx, cmap=plt.cm.gray)\n",
        "plt.xlabel(\"Predicted Classes\")\n",
        "plt.ylabel(\"Actual Classes\")\n",
        "#plt.savefig(\"confusion_matrix_errors_plot_mnist_val\", tight_layout=False)\n",
        "plt.show()"
      ],
      "execution_count": 194,
      "outputs": [
        {
          "output_type": "display_data",
          "data": {
            "image/png": "[encoded data removed]",
            "text/plain": [
              "<Figure size 288x288 with 1 Axes>"
            ]
          },
          "metadata": {
            "tags": [],
            "needs_background": "light"
          }
        }
      ]
    }
  ]
}